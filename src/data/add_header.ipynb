{
 "cells": [
  {
   "cell_type": "code",
   "execution_count": 1,
   "id": "0d56b6bc-f367-4f47-b6db-715b50112c9f",
   "metadata": {
    "tags": []
   },
   "outputs": [],
   "source": [
    "import pandas as pd"
   ]
  },
  {
   "cell_type": "code",
   "execution_count": 2,
   "id": "b8a6514f-4b1d-4a92-abc7-c5899b352f14",
   "metadata": {
    "tags": []
   },
   "outputs": [],
   "source": [
    "files = ['areas', 'atuacoes', 'capitulos', 'enderecos', 'eventos', 'formacoes',\n",
    "        'gerais', 'linhas', 'livros', 'participacoesEventos', 'periodicos', 'projetos']\n",
    "\n",
    "scopes = ['abrangente', 'aplicacoes', 'restritivo']"
   ]
  },
  {
   "cell_type": "code",
   "execution_count": 3,
   "id": "8987d436-d1e3-4489-bccb-a3bd9e20ad4a",
   "metadata": {
    "tags": []
   },
   "outputs": [
    {
     "name": "stdout",
     "output_type": "stream",
     "text": [
      "Linhas não lidas em abrangente capitulos: 37018\n",
      "Linhas não lidas em abrangente eventos: 349235\n",
      "Linhas não lidas em abrangente livros: 6392\n",
      "Linhas não lidas em abrangente periodicos: 176533\n"
     ]
    },
    {
     "name": "stderr",
     "output_type": "stream",
     "text": [
      "/tmp/ipykernel_18625/2760804237.py:12: DtypeWarning: Columns (7,9,10,11) have mixed types. Specify dtype option on import or set low_memory=False.\n",
      "  df = pd.read_csv(csv_file_path, header=None, delimiter='\\t', on_bad_lines='skip')\n"
     ]
    },
    {
     "name": "stdout",
     "output_type": "stream",
     "text": [
      "Linhas não lidas em aplicacoes capitulos: 14810\n",
      "Linhas não lidas em aplicacoes eventos: 180000\n",
      "Linhas não lidas em aplicacoes livros: 2262\n",
      "Linhas não lidas em aplicacoes periodicos: 90204\n",
      "Linhas não lidas em restritivo capitulos: 32206\n",
      "Linhas não lidas em restritivo eventos: 289894\n",
      "Linhas não lidas em restritivo livros: 5524\n",
      "Linhas não lidas em restritivo periodicos: 151212\n"
     ]
    }
   ],
   "source": [
    "for scope in scopes:\n",
    "    for file in files:\n",
    "\n",
    "        try:\n",
    "            \n",
    "            \n",
    "            # paths\n",
    "            header_file_path = '../../data/raw/headers/' + file + '.cab'\n",
    "            csv_file_path = '../../data/raw/' + scope +'/' + file + '.csv'\n",
    "            \n",
    "            # Carregando o arquivo csv sem header\n",
    "            df = pd.read_csv(csv_file_path, header=None, delimiter='\\t', on_bad_lines='skip')\n",
    "\n",
    "            # Carregando o header do arquivo .cab\n",
    "            with open(header_file_path, 'r') as file_header:\n",
    "                header = file_header.read().strip().split(',')\n",
    "\n",
    "            # Transformar a string dentro da lista em uma nova lista separada por \"\\t\"\n",
    "            header = header[0].split('\\t')\n",
    "\n",
    "            # Foi observado que alguns headers possuiam colunas desnecessárias à direita\n",
    "            # Sendo assim, o header terá o tamanho da quantidade de colunas do dataframe\n",
    "            # ao eliminar as colunas a direita\n",
    "            \n",
    "            columns_lenght = df.shape[1]\n",
    "            header = header[:columns_lenght]\n",
    "            \n",
    "            # Detectar quantas linhas com má formatação foram puladas em cada dataframe\n",
    "            linhas_lidas = len(df)\n",
    "            \n",
    "            total_linhas = sum(1 for line in open(csv_file_path))\n",
    "            \n",
    "\n",
    "            if total_linhas != linhas_lidas:\n",
    "                \n",
    "                linhas_puladas = total_linhas - linhas_lidas\n",
    "                \n",
    "                print(f'Linhas não lidas em {scope} {file}: {linhas_puladas}')\n",
    "\n",
    "\n",
    "            # Inserindo o header lido do arquivo .cab\n",
    "            df.columns = header\n",
    "            \n",
    "            df.to_csv('../../data/processed/' + scope + '/' + file + '.csv', index=False)\n",
    "\n",
    "\n",
    "        except Exception as e:\n",
    "\n",
    "            print('ERRO!!!')\n",
    "\n",
    "            print(f'scope = {scope}')\n",
    "            print(f'file = {file}')\n",
    "            \n",
    "            print(len(header))\n",
    "            print(df.shape)\n",
    "\n",
    "\n",
    "            # Código que será executado para qualquer outra exceção\n",
    "            print(f\"Ocorreu um erro: {e}\")\n",
    "            \n"
   ]
  },
  {
   "cell_type": "markdown",
   "id": "70ec384e-3a4b-4564-af30-bdc12dbcf806",
   "metadata": {},
   "source": [
    "### Orientacoes"
   ]
  },
  {
   "cell_type": "code",
   "execution_count": 4,
   "id": "88c15a42-ddae-4144-8dc8-404c7bf1d97e",
   "metadata": {
    "tags": []
   },
   "outputs": [],
   "source": [
    "header_orientacoes = ['LattesID',\n",
    "                     'NATUREZA',\n",
    "                     'STATUS',\n",
    "                     'ANO',\n",
    "                     'NomeDoOrientador',\n",
    "                     'CODIGO-INSTITUICAO',\n",
    "                     'NOME-INSTITUICAO',\n",
    "                     'CODIGO-CURSO',\n",
    "                     'FLAG-BOLSA',\n",
    "                     'CODIGO-AGENCIA-FINANCIADORA',\n",
    "                     'NOME-DA-AGENCIA',\n",
    "                     'TITULO',\n",
    "                     'NumeroIdOrientado',\n",
    "                     'NOME-CURSO',\n",
    "                     'NomeGrandeAreaDoConhecimento',\n",
    "                     'NomeDaAreaDoConhecimento',\n",
    "                     'NomeDaSubAreaDoConhecimento',\n",
    "                     'TIPO-DE-ORIENTACAO-CONCLUIDA',\n",
    "                     'TIPO-DE-ORIENTACAO']"
   ]
  },
  {
   "cell_type": "code",
   "execution_count": 5,
   "id": "8f47cdae-ac71-44ba-97a8-7fc113dd6519",
   "metadata": {
    "tags": []
   },
   "outputs": [],
   "source": [
    "for scope in scopes:\n",
    "\n",
    "    try:\n",
    "\n",
    "        # paths\n",
    "        csv_file_path = '../../data/raw/orientacoes/' + scope + '/orientacoes.csv'\n",
    "\n",
    "        # Carregando o arquivo csv sem header\n",
    "        df = pd.read_csv(csv_file_path, header=None, delimiter='\\t')\n",
    "\n",
    "        # Inserindo o header lido do arquivo .cab\n",
    "        df.columns = header_orientacoes\n",
    "        \n",
    "        df.to_csv('../../data/processed/orientacoes/' + scope + '/' + 'orientacoes.csv', index=False)\n",
    "        \n",
    "\n",
    "    except Exception as e:\n",
    "\n",
    "        # Código que será executado para qualquer outra exceção\n",
    "        print(f\"Ocorreu um erro: {e}\")"
   ]
  }
 ],
 "metadata": {
  "kernelspec": {
   "display_name": "Python 3 (ipykernel)",
   "language": "python",
   "name": "python3"
  },
  "language_info": {
   "codemirror_mode": {
    "name": "ipython",
    "version": 3
   },
   "file_extension": ".py",
   "mimetype": "text/x-python",
   "name": "python",
   "nbconvert_exporter": "python",
   "pygments_lexer": "ipython3",
   "version": "3.11.5"
  }
 },
 "nbformat": 4,
 "nbformat_minor": 5
}
