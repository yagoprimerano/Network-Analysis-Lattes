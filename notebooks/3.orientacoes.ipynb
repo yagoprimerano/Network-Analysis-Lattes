{
 "cells": [
  {
   "cell_type": "markdown",
   "id": "a1a5ce03-24a8-49e9-98d5-116f841a0f80",
   "metadata": {
    "tags": []
   },
   "source": [
    "# Overview\n",
    "\n",
    "\n",
    "For this analysis, we focus on the \"aplicacoes\" scope and use supervision data (orientações), where each record represents a supervisee. The two main CSV files used are:\n",
    "\n",
    "- gerais.csv: Contains general data for all researchers.\n",
    "\n",
    "- orientacoes.csv: Contains supervision data with information about both supervisees and supervisors."
   ]
  },
  {
   "cell_type": "code",
   "execution_count": 81,
   "id": "32b2cc6d-daf0-4724-a35e-2cffe76cb22a",
   "metadata": {
    "tags": []
   },
   "outputs": [],
   "source": [
    "import pandas as pd\n",
    "import unidecode\n",
    "from typing import Optional\n",
    "import networkx as nx\n",
    "import matplotlib.pyplot as plt\n",
    "import numpy as np\n",
    "from tqdm import tqdm\n",
    "import pandas as pd\n",
    "import networkx as nx\n",
    "from itertools import combinations"
   ]
  },
  {
   "cell_type": "code",
   "execution_count": 82,
   "id": "a42aeb37-486d-4d78-aa45-c0d02aa26bb5",
   "metadata": {
    "tags": []
   },
   "outputs": [],
   "source": [
    "DATA_DIR = '../data/'"
   ]
  },
  {
   "cell_type": "code",
   "execution_count": 83,
   "id": "7a3a73c1-e07c-4b09-bb42-2f333f0c8b63",
   "metadata": {
    "tags": []
   },
   "outputs": [],
   "source": [
    "# function to read the Lattes dataset\n",
    "def read_dataset(\n",
    "    data_dir,\n",
    "    scope,\n",
    "    dataset\n",
    "):\n",
    "    \n",
    "    data_path = f'{data_dir}processed/{scope}/{dataset}.csv'\n",
    "    df = pd.read_csv(data_path)\n",
    "    return df"
   ]
  },
  {
   "cell_type": "code",
   "execution_count": 84,
   "id": "1803bec4-2807-4f22-a4d2-dd9d48acac05",
   "metadata": {
    "tags": []
   },
   "outputs": [],
   "source": [
    "# function to standardize any string\n",
    "standardize_string = lambda x: unidecode.unidecode(x.lower())"
   ]
  },
  {
   "cell_type": "markdown",
   "id": "dea45992-f41b-43f7-9389-e9675ecbcbc9",
   "metadata": {
    "tags": []
   },
   "source": [
    "# Data Sources and Structure\n",
    "\n",
    "### gerais.csv\n",
    "\n",
    "Content: General data for all researchers (both supervisees and supervisors).\n",
    "\n",
    "Key Columns:\n",
    "\n",
    "- LattesID: Unique identifier for each researcher.\n",
    "\n",
    "- NOME-COMPLETO: Full name of the researcher.\n",
    "\n",
    "### orientacoes.csv\n",
    "\n",
    "Content: Supervision records where each row corresponds to a specific supervisee.\n",
    "\n",
    "Key Columns:\n",
    "\n",
    "- LattesID: Identifier for the supervisee.\n",
    "\n",
    "- NomeDoOrientador: Name of the supervisor.\n",
    "\n",
    "- NumeroIdOrientado: Identifier for the supervisor.\n",
    "\n",
    "Important: Not all supervisors may be present in the gerais.csv dataset because the filtering was applied only to supervisees. This means some supervisors might be missing from the overall researcher dataset."
   ]
  },
  {
   "cell_type": "markdown",
   "id": "33f6ea01-6496-414e-93ff-b450af4caf0e",
   "metadata": {},
   "source": [
    "# Data Preprocessing and Methodology\n",
    "\n",
    "## Initial Considerations\n",
    "- Filtering by Supervision Status:\n",
    "\n",
    "Only supervision records with a status of CONCLUIDA (completed) are used. This choice excludes ongoing supervision relationships, which might affect the network analysis if such relationships are relevant.\n",
    "\n",
    "- Unique Identifier Selection:\n",
    "\n",
    "The Lattes ID is used as the unique identifier for both supervisees and supervisors. This is crucial for creating a reliable source-target relationship table for network analysis.\n",
    "\n",
    "- Data Representation:\n",
    "\n",
    "The supervision dataset (orientacoes.csv) is structured so that each row represents a supervisee, not a supervisor. Therefore, caution is needed when linking supervisors, as some might not be included in the gerais.csv dataset.\n",
    "\n",
    "## Data Cleaning and Transformation\n",
    "\n",
    "- Standardizing Strings:\n",
    "All names are converted to lowercase and stripped of diacritics to ensure consistency during merging and matching.\n",
    "\n",
    "- Handling Missing Values:\n",
    "\n",
    "For supervisors missing their Lattes ID, a placeholder value (-100000) is used.\n",
    "\n",
    "Missing supervisor names are filled with a default text (orientador com nome nao preenchido).\n",
    "\n",
    "- Column Renaming:\n",
    "Columns are renamed to clearly differentiate between supervisee and supervisor IDs (e.g., renaming LattesID to LattesID_Orientando for supervisees)."
   ]
  },
  {
   "cell_type": "markdown",
   "id": "3de528f5-4fc9-4bc3-8a45-91037e2d9750",
   "metadata": {},
   "source": [
    "## Load and processing \"orientacoes\" dataframe"
   ]
  },
  {
   "cell_type": "code",
   "execution_count": 85,
   "id": "54051cfa-7d59-4150-b772-fb00e69b57dd",
   "metadata": {
    "tags": []
   },
   "outputs": [],
   "source": [
    "scope = 'aplicacoes' #current scope\n",
    "\n",
    "# dataframe of supervision\n",
    "df_orien = read_dataset(data_dir=DATA_DIR, scope=scope, dataset='orientacoes')"
   ]
  },
  {
   "cell_type": "code",
   "execution_count": 86,
   "id": "09821d31-fa8b-4a7a-b168-4ae3be248603",
   "metadata": {
    "tags": []
   },
   "outputs": [
    {
     "data": {
      "text/html": [
       "<div>\n",
       "<style scoped>\n",
       "    .dataframe tbody tr th:only-of-type {\n",
       "        vertical-align: middle;\n",
       "    }\n",
       "\n",
       "    .dataframe tbody tr th {\n",
       "        vertical-align: top;\n",
       "    }\n",
       "\n",
       "    .dataframe thead th {\n",
       "        text-align: right;\n",
       "    }\n",
       "</style>\n",
       "<table border=\"1\" class=\"dataframe\">\n",
       "  <thead>\n",
       "    <tr style=\"text-align: right;\">\n",
       "      <th></th>\n",
       "      <th>LattesID</th>\n",
       "      <th>NATUREZA</th>\n",
       "      <th>STATUS</th>\n",
       "      <th>ANO</th>\n",
       "      <th>NomeDoOrientador</th>\n",
       "      <th>CODIGO-INSTITUICAO</th>\n",
       "      <th>NOME-INSTITUICAO</th>\n",
       "      <th>CODIGO-CURSO</th>\n",
       "      <th>FLAG-BOLSA</th>\n",
       "      <th>CODIGO-AGENCIA-FINANCIADORA</th>\n",
       "      <th>NOME-DA-AGENCIA</th>\n",
       "      <th>TITULO</th>\n",
       "      <th>NumeroIdOrientado</th>\n",
       "      <th>NOME-CURSO</th>\n",
       "      <th>NomeGrandeAreaDoConhecimento</th>\n",
       "      <th>NomeDaAreaDoConhecimento</th>\n",
       "      <th>NomeDaSubAreaDoConhecimento</th>\n",
       "      <th>TIPO-DE-ORIENTACAO-CONCLUIDA</th>\n",
       "      <th>TIPO-DE-ORIENTACAO</th>\n",
       "    </tr>\n",
       "  </thead>\n",
       "  <tbody>\n",
       "    <tr>\n",
       "      <th>0</th>\n",
       "      <td>11303079806761</td>\n",
       "      <td>Dissertação de mestrado</td>\n",
       "      <td>CONCLUIDA</td>\n",
       "      <td>1995.0</td>\n",
       "      <td>JOAO CAMARGO NETO</td>\n",
       "      <td>008700000009</td>\n",
       "      <td>Instituto Nacional de Pesquisas Espaciais</td>\n",
       "      <td>NaN</td>\n",
       "      <td>NAO</td>\n",
       "      <td>NaN</td>\n",
       "      <td>NaN</td>\n",
       "      <td>Utilizacao da Morfologia Matematica Na Analise...</td>\n",
       "      <td>NaN</td>\n",
       "      <td>NaN</td>\n",
       "      <td>CIENCIAS_EXATAS_E_DA_TERRA</td>\n",
       "      <td>Ciência da Computação</td>\n",
       "      <td>Metodologia e Técnicas da Computação</td>\n",
       "      <td>NaN</td>\n",
       "      <td>ORIENTADOR_PRINCIPAL</td>\n",
       "    </tr>\n",
       "    <tr>\n",
       "      <th>1</th>\n",
       "      <td>11303079806761</td>\n",
       "      <td>Dissertação de mestrado</td>\n",
       "      <td>CONCLUIDA</td>\n",
       "      <td>1992.0</td>\n",
       "      <td>AILTON CRUZ DOS SANTOS</td>\n",
       "      <td>008700000009</td>\n",
       "      <td>Instituto Nacional de Pesquisas Espaciais</td>\n",
       "      <td>NaN</td>\n",
       "      <td>NAO</td>\n",
       "      <td>NaN</td>\n",
       "      <td>NaN</td>\n",
       "      <td>Simulacao de Imagens de Sensores Com Largo Cam...</td>\n",
       "      <td>8.226326e+15</td>\n",
       "      <td>NaN</td>\n",
       "      <td>NaN</td>\n",
       "      <td>NaN</td>\n",
       "      <td>NaN</td>\n",
       "      <td>NaN</td>\n",
       "      <td>ORIENTADOR_PRINCIPAL</td>\n",
       "    </tr>\n",
       "  </tbody>\n",
       "</table>\n",
       "</div>"
      ],
      "text/plain": [
       "         LattesID                 NATUREZA     STATUS     ANO  \\\n",
       "0  11303079806761  Dissertação de mestrado  CONCLUIDA  1995.0   \n",
       "1  11303079806761  Dissertação de mestrado  CONCLUIDA  1992.0   \n",
       "\n",
       "         NomeDoOrientador CODIGO-INSTITUICAO  \\\n",
       "0       JOAO CAMARGO NETO       008700000009   \n",
       "1  AILTON CRUZ DOS SANTOS       008700000009   \n",
       "\n",
       "                            NOME-INSTITUICAO  CODIGO-CURSO FLAG-BOLSA  \\\n",
       "0  Instituto Nacional de Pesquisas Espaciais           NaN        NAO   \n",
       "1  Instituto Nacional de Pesquisas Espaciais           NaN        NAO   \n",
       "\n",
       "  CODIGO-AGENCIA-FINANCIADORA NOME-DA-AGENCIA  \\\n",
       "0                         NaN             NaN   \n",
       "1                         NaN             NaN   \n",
       "\n",
       "                                              TITULO  NumeroIdOrientado  \\\n",
       "0  Utilizacao da Morfologia Matematica Na Analise...                NaN   \n",
       "1  Simulacao de Imagens de Sensores Com Largo Cam...       8.226326e+15   \n",
       "\n",
       "  NOME-CURSO NomeGrandeAreaDoConhecimento NomeDaAreaDoConhecimento  \\\n",
       "0        NaN   CIENCIAS_EXATAS_E_DA_TERRA    Ciência da Computação   \n",
       "1        NaN                          NaN                      NaN   \n",
       "\n",
       "            NomeDaSubAreaDoConhecimento TIPO-DE-ORIENTACAO-CONCLUIDA  \\\n",
       "0  Metodologia e Técnicas da Computação                          NaN   \n",
       "1                                   NaN                          NaN   \n",
       "\n",
       "     TIPO-DE-ORIENTACAO  \n",
       "0  ORIENTADOR_PRINCIPAL  \n",
       "1  ORIENTADOR_PRINCIPAL  "
      ]
     },
     "execution_count": 86,
     "metadata": {},
     "output_type": "execute_result"
    }
   ],
   "source": [
    "df_orien.head(2)"
   ]
  },
  {
   "cell_type": "code",
   "execution_count": 87,
   "id": "bd264c3e-c1e1-46af-8a4b-b744b9b0b443",
   "metadata": {
    "tags": []
   },
   "outputs": [
    {
     "data": {
      "text/plain": [
       "(239652, 19)"
      ]
     },
     "execution_count": 87,
     "metadata": {},
     "output_type": "execute_result"
    }
   ],
   "source": [
    "# shape\n",
    "df_orien.shape"
   ]
  },
  {
   "cell_type": "code",
   "execution_count": 88,
   "id": "9f4499ef-4837-4361-9ccf-9bd46893e61c",
   "metadata": {
    "tags": []
   },
   "outputs": [],
   "source": [
    "# select only completed supervisions\n",
    "df_orien = df_orien[df_orien['STATUS'] == 'CONCLUIDA']"
   ]
  },
  {
   "cell_type": "code",
   "execution_count": 89,
   "id": "91b334f9-311e-43bd-ad93-e7d5bc42cfd3",
   "metadata": {
    "tags": []
   },
   "outputs": [
    {
     "data": {
      "text/plain": [
       "(222315, 19)"
      ]
     },
     "execution_count": 89,
     "metadata": {},
     "output_type": "execute_result"
    }
   ],
   "source": [
    "df_orien.shape"
   ]
  },
  {
   "cell_type": "code",
   "execution_count": 90,
   "id": "3e2545a9-05f0-4aea-a01e-a494ea34b5b9",
   "metadata": {
    "tags": []
   },
   "outputs": [
    {
     "data": {
      "text/plain": [
       "13547"
      ]
     },
     "execution_count": 90,
     "metadata": {},
     "output_type": "execute_result"
    }
   ],
   "source": [
    "df_orien.duplicated(subset=['LattesID', 'NATUREZA', 'NomeDoOrientador']).sum()"
   ]
  },
  {
   "cell_type": "code",
   "execution_count": 91,
   "id": "8f6b6f44-f2db-47ea-9704-ae62dcc583f4",
   "metadata": {
    "tags": []
   },
   "outputs": [],
   "source": [
    "# columns = 'LattesID', 'NomeDoOrientador', 'NumeroIdOrientado'\n",
    "df_orien = df_orien[['LattesID', 'NomeDoOrientador', 'NumeroIdOrientado']]"
   ]
  },
  {
   "cell_type": "code",
   "execution_count": 92,
   "id": "94036654-1226-417c-bdbc-19e9fbfc969f",
   "metadata": {
    "tags": []
   },
   "outputs": [],
   "source": [
    "# adjusting column names\n",
    "df_orien = df_orien.rename({'LattesID': 'LattesID_Orientando',\n",
    "                            'NumeroIdOrientado': 'LattesID_Orientador'}, axis=1)"
   ]
  },
  {
   "cell_type": "code",
   "execution_count": 93,
   "id": "6c9319b5-22d1-4b4d-b79f-b31361fa6414",
   "metadata": {
    "tags": []
   },
   "outputs": [
    {
     "data": {
      "text/plain": [
       "LattesID_Orientando         0\n",
       "NomeDoOrientador           11\n",
       "LattesID_Orientador    183973\n",
       "dtype: int64"
      ]
     },
     "execution_count": 93,
     "metadata": {},
     "output_type": "execute_result"
    }
   ],
   "source": [
    "# null data\n",
    "df_orien.isnull().sum()"
   ]
  },
  {
   "cell_type": "markdown",
   "id": "c51d5365-1284-47c8-a517-d31f59e24f69",
   "metadata": {},
   "source": [
    "From the top row, we can see that there are many supervisors who do not have their Lattes ID registered, only their names. Later, we will use an approach to try to retrieve the Lattes ID of these supervisors"
   ]
  },
  {
   "cell_type": "code",
   "execution_count": 94,
   "id": "ed0c9655-37e9-4214-b542-4a11bd4d7290",
   "metadata": {
    "tags": []
   },
   "outputs": [],
   "source": [
    "# fillna of NomeDoOrientador\n",
    "df_orien['NomeDoOrientador'] = df_orien['NomeDoOrientador'].fillna('orientador com nome nao preenchido')"
   ]
  },
  {
   "cell_type": "code",
   "execution_count": 95,
   "id": "d25122b3-513b-4b04-8ed0-c2e9a071a4cb",
   "metadata": {
    "tags": []
   },
   "outputs": [],
   "source": [
    "# standardize_string on 'NomeDoOrientador'\n",
    "df_orien['NomeDoOrientador'] = df_orien['NomeDoOrientador'].apply(standardize_string)"
   ]
  },
  {
   "cell_type": "code",
   "execution_count": 96,
   "id": "00f10cde-eb1b-4123-95c5-65e9a76b5eef",
   "metadata": {
    "tags": []
   },
   "outputs": [],
   "source": [
    "# null variable\n",
    "null_number = -100000"
   ]
  },
  {
   "cell_type": "code",
   "execution_count": 97,
   "id": "48fa487b-8610-4d4e-a9e2-8eca1d1d9337",
   "metadata": {
    "tags": []
   },
   "outputs": [],
   "source": [
    "# Convert Lattes ID to string\n",
    "df_orien['LattesID_Orientador'] = df_orien['LattesID_Orientador'].fillna(null_number)\n",
    "df_orien['LattesID_Orientador'] = df_orien['LattesID_Orientador'].astype('int')"
   ]
  },
  {
   "cell_type": "code",
   "execution_count": 98,
   "id": "ff0b12a4-0644-4916-a54d-56f59ec84aa6",
   "metadata": {
    "tags": []
   },
   "outputs": [
    {
     "data": {
      "text/plain": [
       "LattesID_Orientando    0\n",
       "NomeDoOrientador       0\n",
       "LattesID_Orientador    0\n",
       "dtype: int64"
      ]
     },
     "execution_count": 98,
     "metadata": {},
     "output_type": "execute_result"
    }
   ],
   "source": [
    "# null data\n",
    "df_orien.isnull().sum()"
   ]
  },
  {
   "cell_type": "code",
   "execution_count": 99,
   "id": "a2c6d692-e4a2-466e-b5f8-63a7d1c4770f",
   "metadata": {
    "tags": []
   },
   "outputs": [
    {
     "data": {
      "text/plain": [
       "LattesID_Orientando     int64\n",
       "NomeDoOrientador       object\n",
       "LattesID_Orientador     int64\n",
       "dtype: object"
      ]
     },
     "execution_count": 99,
     "metadata": {},
     "output_type": "execute_result"
    }
   ],
   "source": [
    "df_orien.dtypes"
   ]
  },
  {
   "cell_type": "markdown",
   "id": "f711aadd-ff79-48fb-86f3-34bb53b757f4",
   "metadata": {},
   "source": [
    "### Load and processing \"geral\" dataframe"
   ]
  },
  {
   "cell_type": "code",
   "execution_count": 100,
   "id": "1ea24e3c-2874-48d0-bf38-85e2ba6b9746",
   "metadata": {
    "tags": []
   },
   "outputs": [],
   "source": [
    "# dataframe of general data\n",
    "df_geral = read_dataset(data_dir=DATA_DIR, scope=scope, dataset='gerais')[['LattesID', 'NOME-COMPLETO']]"
   ]
  },
  {
   "cell_type": "code",
   "execution_count": 101,
   "id": "054f67c1-6e95-4131-b990-48e72db09c8b",
   "metadata": {
    "tags": []
   },
   "outputs": [
    {
     "data": {
      "text/plain": [
       "(3992, 2)"
      ]
     },
     "execution_count": 101,
     "metadata": {},
     "output_type": "execute_result"
    }
   ],
   "source": [
    "df_geral.shape"
   ]
  },
  {
   "cell_type": "code",
   "execution_count": 102,
   "id": "41bf8417-339c-44cf-8e9c-0d02b4297a5d",
   "metadata": {
    "tags": []
   },
   "outputs": [
    {
     "data": {
      "text/html": [
       "<div>\n",
       "<style scoped>\n",
       "    .dataframe tbody tr th:only-of-type {\n",
       "        vertical-align: middle;\n",
       "    }\n",
       "\n",
       "    .dataframe tbody tr th {\n",
       "        vertical-align: top;\n",
       "    }\n",
       "\n",
       "    .dataframe thead th {\n",
       "        text-align: right;\n",
       "    }\n",
       "</style>\n",
       "<table border=\"1\" class=\"dataframe\">\n",
       "  <thead>\n",
       "    <tr style=\"text-align: right;\">\n",
       "      <th></th>\n",
       "      <th>LattesID</th>\n",
       "      <th>NOME-COMPLETO</th>\n",
       "    </tr>\n",
       "  </thead>\n",
       "  <tbody>\n",
       "    <tr>\n",
       "      <th>0</th>\n",
       "      <td>565598534943</td>\n",
       "      <td>Sdnei de Brito Alves</td>\n",
       "    </tr>\n",
       "    <tr>\n",
       "      <th>1</th>\n",
       "      <td>601083852823</td>\n",
       "      <td>Alexandre Loureiros Rodrigues</td>\n",
       "    </tr>\n",
       "    <tr>\n",
       "      <th>2</th>\n",
       "      <td>5349558315095</td>\n",
       "      <td>Juliano Manabu Iyoda</td>\n",
       "    </tr>\n",
       "    <tr>\n",
       "      <th>3</th>\n",
       "      <td>10858860721392</td>\n",
       "      <td>Hugo Bastos de Paula</td>\n",
       "    </tr>\n",
       "    <tr>\n",
       "      <th>4</th>\n",
       "      <td>11303079806761</td>\n",
       "      <td>Gerald Jean Francis Banon</td>\n",
       "    </tr>\n",
       "  </tbody>\n",
       "</table>\n",
       "</div>"
      ],
      "text/plain": [
       "         LattesID                  NOME-COMPLETO\n",
       "0    565598534943           Sdnei de Brito Alves\n",
       "1    601083852823  Alexandre Loureiros Rodrigues\n",
       "2   5349558315095           Juliano Manabu Iyoda\n",
       "3  10858860721392           Hugo Bastos de Paula\n",
       "4  11303079806761      Gerald Jean Francis Banon"
      ]
     },
     "execution_count": 102,
     "metadata": {},
     "output_type": "execute_result"
    }
   ],
   "source": [
    "df_geral.head()"
   ]
  },
  {
   "cell_type": "code",
   "execution_count": 103,
   "id": "cfaf788a-04a2-4a9b-9a53-2067db159c71",
   "metadata": {
    "tags": []
   },
   "outputs": [],
   "source": [
    "df_geral = df_geral.rename({'NOME-COMPLETO': 'NomeDoOrientando',\n",
    "                           'LattesID': 'LattesID_Orientando'}, axis=1)"
   ]
  },
  {
   "cell_type": "code",
   "execution_count": 104,
   "id": "2d70080b-3fae-4681-8ffe-e245dd05b64b",
   "metadata": {
    "tags": []
   },
   "outputs": [
    {
     "data": {
      "text/html": [
       "<div>\n",
       "<style scoped>\n",
       "    .dataframe tbody tr th:only-of-type {\n",
       "        vertical-align: middle;\n",
       "    }\n",
       "\n",
       "    .dataframe tbody tr th {\n",
       "        vertical-align: top;\n",
       "    }\n",
       "\n",
       "    .dataframe thead th {\n",
       "        text-align: right;\n",
       "    }\n",
       "</style>\n",
       "<table border=\"1\" class=\"dataframe\">\n",
       "  <thead>\n",
       "    <tr style=\"text-align: right;\">\n",
       "      <th></th>\n",
       "      <th>LattesID_Orientando</th>\n",
       "      <th>NomeDoOrientando</th>\n",
       "    </tr>\n",
       "  </thead>\n",
       "  <tbody>\n",
       "    <tr>\n",
       "      <th>0</th>\n",
       "      <td>565598534943</td>\n",
       "      <td>Sdnei de Brito Alves</td>\n",
       "    </tr>\n",
       "    <tr>\n",
       "      <th>1</th>\n",
       "      <td>601083852823</td>\n",
       "      <td>Alexandre Loureiros Rodrigues</td>\n",
       "    </tr>\n",
       "    <tr>\n",
       "      <th>2</th>\n",
       "      <td>5349558315095</td>\n",
       "      <td>Juliano Manabu Iyoda</td>\n",
       "    </tr>\n",
       "    <tr>\n",
       "      <th>3</th>\n",
       "      <td>10858860721392</td>\n",
       "      <td>Hugo Bastos de Paula</td>\n",
       "    </tr>\n",
       "    <tr>\n",
       "      <th>4</th>\n",
       "      <td>11303079806761</td>\n",
       "      <td>Gerald Jean Francis Banon</td>\n",
       "    </tr>\n",
       "  </tbody>\n",
       "</table>\n",
       "</div>"
      ],
      "text/plain": [
       "   LattesID_Orientando               NomeDoOrientando\n",
       "0         565598534943           Sdnei de Brito Alves\n",
       "1         601083852823  Alexandre Loureiros Rodrigues\n",
       "2        5349558315095           Juliano Manabu Iyoda\n",
       "3       10858860721392           Hugo Bastos de Paula\n",
       "4       11303079806761      Gerald Jean Francis Banon"
      ]
     },
     "execution_count": 104,
     "metadata": {},
     "output_type": "execute_result"
    }
   ],
   "source": [
    "# This dataframe will be used to get the name of the students\n",
    "df_geral.head()"
   ]
  },
  {
   "cell_type": "code",
   "execution_count": 105,
   "id": "9b5f6c00-72ed-4bee-ad2e-11a46c53e2b1",
   "metadata": {
    "tags": []
   },
   "outputs": [],
   "source": [
    "# standardize_string 'NomeDoOrientando'\n",
    "df_geral['NomeDoOrientando'] = df_geral['NomeDoOrientando'].apply(standardize_string)"
   ]
  },
  {
   "cell_type": "code",
   "execution_count": 106,
   "id": "b01052fb-ee0a-4e0c-bb6e-b1c3930692cb",
   "metadata": {
    "tags": []
   },
   "outputs": [
    {
     "data": {
      "text/html": [
       "<div>\n",
       "<style scoped>\n",
       "    .dataframe tbody tr th:only-of-type {\n",
       "        vertical-align: middle;\n",
       "    }\n",
       "\n",
       "    .dataframe tbody tr th {\n",
       "        vertical-align: top;\n",
       "    }\n",
       "\n",
       "    .dataframe thead th {\n",
       "        text-align: right;\n",
       "    }\n",
       "</style>\n",
       "<table border=\"1\" class=\"dataframe\">\n",
       "  <thead>\n",
       "    <tr style=\"text-align: right;\">\n",
       "      <th></th>\n",
       "      <th>LattesID_Orientando</th>\n",
       "      <th>NomeDoOrientando</th>\n",
       "    </tr>\n",
       "  </thead>\n",
       "  <tbody>\n",
       "    <tr>\n",
       "      <th>0</th>\n",
       "      <td>565598534943</td>\n",
       "      <td>sdnei de brito alves</td>\n",
       "    </tr>\n",
       "    <tr>\n",
       "      <th>1</th>\n",
       "      <td>601083852823</td>\n",
       "      <td>alexandre loureiros rodrigues</td>\n",
       "    </tr>\n",
       "    <tr>\n",
       "      <th>2</th>\n",
       "      <td>5349558315095</td>\n",
       "      <td>juliano manabu iyoda</td>\n",
       "    </tr>\n",
       "    <tr>\n",
       "      <th>3</th>\n",
       "      <td>10858860721392</td>\n",
       "      <td>hugo bastos de paula</td>\n",
       "    </tr>\n",
       "    <tr>\n",
       "      <th>4</th>\n",
       "      <td>11303079806761</td>\n",
       "      <td>gerald jean francis banon</td>\n",
       "    </tr>\n",
       "  </tbody>\n",
       "</table>\n",
       "</div>"
      ],
      "text/plain": [
       "   LattesID_Orientando               NomeDoOrientando\n",
       "0         565598534943           sdnei de brito alves\n",
       "1         601083852823  alexandre loureiros rodrigues\n",
       "2        5349558315095           juliano manabu iyoda\n",
       "3       10858860721392           hugo bastos de paula\n",
       "4       11303079806761      gerald jean francis banon"
      ]
     },
     "execution_count": 106,
     "metadata": {},
     "output_type": "execute_result"
    }
   ],
   "source": [
    "df_geral.head()"
   ]
  },
  {
   "cell_type": "code",
   "execution_count": 107,
   "id": "c6d462eb-00ae-4f91-88e2-8c7f74a954f2",
   "metadata": {
    "tags": []
   },
   "outputs": [
    {
     "data": {
      "text/plain": [
       "LattesID_Orientando     int64\n",
       "NomeDoOrientando       object\n",
       "dtype: object"
      ]
     },
     "execution_count": 107,
     "metadata": {},
     "output_type": "execute_result"
    }
   ],
   "source": [
    "df_geral.dtypes"
   ]
  },
  {
   "cell_type": "markdown",
   "id": "e24a8a68-b069-4442-82ce-8f4ebe519d2b",
   "metadata": {
    "tags": []
   },
   "source": [
    "# Data Merging and Approaches\n",
    "\n",
    "## Merge Process\n",
    "\n",
    "1. Merge with gerais.csv (Supervisee Data):\n",
    "\n",
    "The orientacoes dataset is merged with gerais.csv on the supervisee's Lattes ID to obtain standardized supervisee names.\n",
    "\n",
    "2. First Approach – Direct ID Matching:\n",
    "\n",
    "- Objective: Use available Lattes IDs for both supervisors and supervisees.\n",
    "\n",
    "- Method: Remove rows with missing supervisor IDs and drop unnecessary name columns.\n",
    "\n",
    "- Outcome: A straightforward merging of data where both IDs are present.\n",
    "\n",
    "3. Second Approach – Recovering Missing Supervisor IDs:\n",
    "\n",
    "- Objective: Retrieve missing supervisor Lattes IDs by matching on supervisor names.\n",
    "\n",
    "- Method:\n",
    "\n",
    "- - A concatenated geral dataset is created from the three scopes (aplicacoes, restritivo, abrangente).\n",
    "\n",
    "- - The supervisor’s name from the orientacoes dataset is matched with NOME-COMPLETO in the geral dataset.\n",
    "\n",
    "- Challenges:\n",
    "\n",
    "- - Homonym Issue: There is a risk of misidentification due to supervisors sharing the same name. In the current dataset, only two cases of homonyms were detected, but this might increase with larger or more varied datasets.\n",
    "\n",
    "- - Data Consistency: Using additional attributes (e.g., university affiliation) could improve disambiguation; however, such information may be outdated or inconsistent.\n",
    "\n",
    "4. Final Dataset Preparation:\n",
    "\n",
    "- The two approaches are concatenated to form a comprehensive dataset.\n",
    "\n",
    "- Duplicates are removed, and self-referential links (where the supervisee and supervisor are the same) are filtered out."
   ]
  },
  {
   "cell_type": "markdown",
   "id": "9fb3be29-d4ab-440a-b1e1-d94e1446bf18",
   "metadata": {},
   "source": [
    "## Merge and processing"
   ]
  },
  {
   "cell_type": "code",
   "execution_count": 108,
   "id": "77b3f9d6-dfb9-41bd-8c20-6c6cb0875b3b",
   "metadata": {
    "tags": []
   },
   "outputs": [],
   "source": [
    "# merge both dataframes on 'LattesID_Orientando'\n",
    "df_merged = df_orien.merge(df_geral, on='LattesID_Orientando')"
   ]
  },
  {
   "cell_type": "code",
   "execution_count": 109,
   "id": "1e76c114-8649-4bf5-9375-414232c150f1",
   "metadata": {
    "tags": []
   },
   "outputs": [],
   "source": [
    "# ordering columns for better interpretation\n",
    "df_merged = df_merged[['LattesID_Orientando', 'NomeDoOrientando', 'LattesID_Orientador', 'NomeDoOrientador']]"
   ]
  },
  {
   "cell_type": "code",
   "execution_count": 110,
   "id": "44825f39-d03b-4958-9193-e2b5c29e1558",
   "metadata": {
    "tags": []
   },
   "outputs": [
    {
     "data": {
      "text/html": [
       "<div>\n",
       "<style scoped>\n",
       "    .dataframe tbody tr th:only-of-type {\n",
       "        vertical-align: middle;\n",
       "    }\n",
       "\n",
       "    .dataframe tbody tr th {\n",
       "        vertical-align: top;\n",
       "    }\n",
       "\n",
       "    .dataframe thead th {\n",
       "        text-align: right;\n",
       "    }\n",
       "</style>\n",
       "<table border=\"1\" class=\"dataframe\">\n",
       "  <thead>\n",
       "    <tr style=\"text-align: right;\">\n",
       "      <th></th>\n",
       "      <th>LattesID_Orientando</th>\n",
       "      <th>NomeDoOrientando</th>\n",
       "      <th>LattesID_Orientador</th>\n",
       "      <th>NomeDoOrientador</th>\n",
       "    </tr>\n",
       "  </thead>\n",
       "  <tbody>\n",
       "    <tr>\n",
       "      <th>0</th>\n",
       "      <td>11303079806761</td>\n",
       "      <td>gerald jean francis banon</td>\n",
       "      <td>-100000</td>\n",
       "      <td>joao camargo neto</td>\n",
       "    </tr>\n",
       "    <tr>\n",
       "      <th>1</th>\n",
       "      <td>11303079806761</td>\n",
       "      <td>gerald jean francis banon</td>\n",
       "      <td>8226325993016336</td>\n",
       "      <td>ailton cruz dos santos</td>\n",
       "    </tr>\n",
       "    <tr>\n",
       "      <th>2</th>\n",
       "      <td>11303079806761</td>\n",
       "      <td>gerald jean francis banon</td>\n",
       "      <td>-100000</td>\n",
       "      <td>ana lucia bezerra candeias</td>\n",
       "    </tr>\n",
       "  </tbody>\n",
       "</table>\n",
       "</div>"
      ],
      "text/plain": [
       "   LattesID_Orientando           NomeDoOrientando  LattesID_Orientador  \\\n",
       "0       11303079806761  gerald jean francis banon              -100000   \n",
       "1       11303079806761  gerald jean francis banon     8226325993016336   \n",
       "2       11303079806761  gerald jean francis banon              -100000   \n",
       "\n",
       "             NomeDoOrientador  \n",
       "0           joao camargo neto  \n",
       "1      ailton cruz dos santos  \n",
       "2  ana lucia bezerra candeias  "
      ]
     },
     "execution_count": 110,
     "metadata": {},
     "output_type": "execute_result"
    }
   ],
   "source": [
    "df_merged.head(3)"
   ]
  },
  {
   "cell_type": "code",
   "execution_count": 111,
   "id": "8a8f9332-5006-46d9-97f8-424e069f77ed",
   "metadata": {
    "tags": []
   },
   "outputs": [
    {
     "data": {
      "text/html": [
       "<div>\n",
       "<style scoped>\n",
       "    .dataframe tbody tr th:only-of-type {\n",
       "        vertical-align: middle;\n",
       "    }\n",
       "\n",
       "    .dataframe tbody tr th {\n",
       "        vertical-align: top;\n",
       "    }\n",
       "\n",
       "    .dataframe thead th {\n",
       "        text-align: right;\n",
       "    }\n",
       "</style>\n",
       "<table border=\"1\" class=\"dataframe\">\n",
       "  <thead>\n",
       "    <tr style=\"text-align: right;\">\n",
       "      <th></th>\n",
       "      <th>LattesID_Orientando</th>\n",
       "      <th>LattesID_Orientador</th>\n",
       "    </tr>\n",
       "  </thead>\n",
       "  <tbody>\n",
       "  </tbody>\n",
       "</table>\n",
       "</div>"
      ],
      "text/plain": [
       "Empty DataFrame\n",
       "Columns: [LattesID_Orientando, LattesID_Orientador]\n",
       "Index: []"
      ]
     },
     "execution_count": 111,
     "metadata": {},
     "output_type": "execute_result"
    }
   ],
   "source": [
    "# this is going to be our final dataframe\n",
    "df_final = pd.DataFrame({}, columns=['LattesID_Orientando', 'LattesID_Orientador'])\n",
    "df_final"
   ]
  },
  {
   "cell_type": "markdown",
   "id": "7bae6a82-5cf7-4a49-a157-80f8cebb5c40",
   "metadata": {},
   "source": [
    "#### First Approach – Direct ID Matching"
   ]
  },
  {
   "cell_type": "code",
   "execution_count": 112,
   "id": "1fc7d487-99b1-48b4-9272-96230336efcc",
   "metadata": {
    "tags": []
   },
   "outputs": [],
   "source": [
    "first_mask = df_merged.copy()\n",
    "\n",
    "# remove names\n",
    "first_mask.drop(['NomeDoOrientando','NomeDoOrientador'], axis=1, inplace=True)"
   ]
  },
  {
   "cell_type": "code",
   "execution_count": 113,
   "id": "60b01419-83d4-4289-bf06-032d4ffc2932",
   "metadata": {
    "tags": []
   },
   "outputs": [],
   "source": [
    "# return the NaN values\n",
    "first_mask['LattesID_Orientador'] = first_mask['LattesID_Orientador'].replace(null_number, np.nan)"
   ]
  },
  {
   "cell_type": "code",
   "execution_count": 114,
   "id": "ab21bbd4-f27d-48aa-b529-7f68087faf28",
   "metadata": {
    "tags": []
   },
   "outputs": [],
   "source": [
    "# drop NaN vallues\n",
    "first_mask.dropna(inplace=True)"
   ]
  },
  {
   "cell_type": "code",
   "execution_count": 115,
   "id": "5a727724-7a84-46c0-8495-96ed2fbb27cc",
   "metadata": {
    "tags": []
   },
   "outputs": [
    {
     "data": {
      "text/plain": [
       "LattesID_Orientando      int64\n",
       "LattesID_Orientador    float64\n",
       "dtype: object"
      ]
     },
     "execution_count": 115,
     "metadata": {},
     "output_type": "execute_result"
    }
   ],
   "source": [
    "first_mask.dtypes"
   ]
  },
  {
   "cell_type": "code",
   "execution_count": 116,
   "id": "6f51c9ee-e806-423d-95f5-9e5ce6cea6c3",
   "metadata": {
    "tags": []
   },
   "outputs": [],
   "source": [
    "# convert to int\n",
    "first_mask['LattesID_Orientador'] = first_mask['LattesID_Orientador'].astype(int)"
   ]
  },
  {
   "cell_type": "code",
   "execution_count": 117,
   "id": "65e3a5cf-a842-4520-a223-07a1d412de4f",
   "metadata": {
    "tags": []
   },
   "outputs": [
    {
     "data": {
      "text/plain": [
       "LattesID_Orientando    int64\n",
       "LattesID_Orientador    int64\n",
       "dtype: object"
      ]
     },
     "execution_count": 117,
     "metadata": {},
     "output_type": "execute_result"
    }
   ],
   "source": [
    "first_mask.dtypes"
   ]
  },
  {
   "cell_type": "code",
   "execution_count": 118,
   "id": "09c42356-4408-4266-84ed-f64b9195d6d4",
   "metadata": {
    "tags": []
   },
   "outputs": [],
   "source": [
    "# concat on final dataframe\n",
    "df_final = pd.concat([df_final, first_mask], axis=0, ignore_index=True)"
   ]
  },
  {
   "cell_type": "code",
   "execution_count": 119,
   "id": "613d42b3-fa29-4a2b-9b2e-c02f30080dab",
   "metadata": {
    "tags": []
   },
   "outputs": [
    {
     "data": {
      "text/plain": [
       "38342"
      ]
     },
     "execution_count": 119,
     "metadata": {},
     "output_type": "execute_result"
    }
   ],
   "source": [
    "len(df_final)"
   ]
  },
  {
   "cell_type": "markdown",
   "id": "93b2e66a-c269-4aa7-b3f5-a13c2c83acf9",
   "metadata": {},
   "source": [
    "### Second Approach – Recovering Missing Supervisor IDs"
   ]
  },
  {
   "cell_type": "code",
   "execution_count": 120,
   "id": "579201a2-a3b8-4e2d-b4e7-0d08fde5586e",
   "metadata": {
    "tags": []
   },
   "outputs": [],
   "source": [
    "# get all general data\n",
    "\n",
    "# aplicacoes\n",
    "df_geral_aplic = read_dataset(data_dir=DATA_DIR,\n",
    "                              scope='aplicacoes',\n",
    "                                dataset='gerais')[['LattesID', 'NOME-COMPLETO']]\n",
    "\n",
    "# restritivo\n",
    "df_geral_rest = read_dataset(data_dir=DATA_DIR,\n",
    "                              scope='restritivo',\n",
    "                                dataset='gerais')[['LattesID', 'NOME-COMPLETO']]\n",
    "\n",
    "# abrangente\n",
    "df_geral_abg = read_dataset(data_dir=DATA_DIR,\n",
    "                              scope='abrangente',\n",
    "                                dataset='gerais')[['LattesID', 'NOME-COMPLETO']]\n",
    "\n",
    "# concat\n",
    "df_geral = pd.concat([df_geral_aplic, df_geral_rest, df_geral_abg], axis=0,\n",
    "                    ignore_index=True)\n",
    "\n",
    "# standardize_string on 'NOME-COMPLETO'\n",
    "df_geral['NOME-COMPLETO'] = df_geral['NOME-COMPLETO'].apply(standardize_string)"
   ]
  },
  {
   "cell_type": "code",
   "execution_count": 121,
   "id": "22e622c4-6ef1-4602-b78c-0fc0fe48395f",
   "metadata": {
    "tags": []
   },
   "outputs": [
    {
     "data": {
      "text/plain": [
       "(24289, 2)"
      ]
     },
     "execution_count": 121,
     "metadata": {},
     "output_type": "execute_result"
    }
   ],
   "source": [
    "df_geral.shape"
   ]
  },
  {
   "cell_type": "code",
   "execution_count": 122,
   "id": "6aeb1ff7-e4d8-4142-83d6-1e4df2e2feff",
   "metadata": {
    "tags": []
   },
   "outputs": [],
   "source": [
    "# It is possible for a supervisor being on more than one scope\n",
    "df_geral = df_geral.drop_duplicates(subset=['LattesID', 'NOME-COMPLETO'])"
   ]
  },
  {
   "cell_type": "code",
   "execution_count": 123,
   "id": "f9e5a056-6330-4f41-94f1-78e1bc227cbb",
   "metadata": {
    "tags": []
   },
   "outputs": [
    {
     "data": {
      "text/plain": [
       "(13317, 2)"
      ]
     },
     "execution_count": 123,
     "metadata": {},
     "output_type": "execute_result"
    }
   ],
   "source": [
    "df_geral.shape"
   ]
  },
  {
   "cell_type": "code",
   "execution_count": 124,
   "id": "94a3863c-e91b-42be-8cf3-0d7fabe8295f",
   "metadata": {
    "tags": []
   },
   "outputs": [
    {
     "data": {
      "text/html": [
       "<div>\n",
       "<style scoped>\n",
       "    .dataframe tbody tr th:only-of-type {\n",
       "        vertical-align: middle;\n",
       "    }\n",
       "\n",
       "    .dataframe tbody tr th {\n",
       "        vertical-align: top;\n",
       "    }\n",
       "\n",
       "    .dataframe thead th {\n",
       "        text-align: right;\n",
       "    }\n",
       "</style>\n",
       "<table border=\"1\" class=\"dataframe\">\n",
       "  <thead>\n",
       "    <tr style=\"text-align: right;\">\n",
       "      <th></th>\n",
       "      <th>LattesID</th>\n",
       "      <th>NOME-COMPLETO</th>\n",
       "    </tr>\n",
       "  </thead>\n",
       "  <tbody>\n",
       "    <tr>\n",
       "      <th>0</th>\n",
       "      <td>565598534943</td>\n",
       "      <td>sdnei de brito alves</td>\n",
       "    </tr>\n",
       "    <tr>\n",
       "      <th>1</th>\n",
       "      <td>601083852823</td>\n",
       "      <td>alexandre loureiros rodrigues</td>\n",
       "    </tr>\n",
       "    <tr>\n",
       "      <th>2</th>\n",
       "      <td>5349558315095</td>\n",
       "      <td>juliano manabu iyoda</td>\n",
       "    </tr>\n",
       "  </tbody>\n",
       "</table>\n",
       "</div>"
      ],
      "text/plain": [
       "        LattesID                  NOME-COMPLETO\n",
       "0   565598534943           sdnei de brito alves\n",
       "1   601083852823  alexandre loureiros rodrigues\n",
       "2  5349558315095           juliano manabu iyoda"
      ]
     },
     "execution_count": 124,
     "metadata": {},
     "output_type": "execute_result"
    }
   ],
   "source": [
    "df_geral.head(3)"
   ]
  },
  {
   "cell_type": "code",
   "execution_count": 125,
   "id": "630b262c-89f2-4c9e-8ff6-c277f6e11315",
   "metadata": {
    "tags": []
   },
   "outputs": [
    {
     "data": {
      "text/html": [
       "<div>\n",
       "<style scoped>\n",
       "    .dataframe tbody tr th:only-of-type {\n",
       "        vertical-align: middle;\n",
       "    }\n",
       "\n",
       "    .dataframe tbody tr th {\n",
       "        vertical-align: top;\n",
       "    }\n",
       "\n",
       "    .dataframe thead th {\n",
       "        text-align: right;\n",
       "    }\n",
       "</style>\n",
       "<table border=\"1\" class=\"dataframe\">\n",
       "  <thead>\n",
       "    <tr style=\"text-align: right;\">\n",
       "      <th></th>\n",
       "      <th>LattesID</th>\n",
       "      <th>NOME-COMPLETO</th>\n",
       "    </tr>\n",
       "  </thead>\n",
       "  <tbody>\n",
       "    <tr>\n",
       "      <th>3843</th>\n",
       "      <td>9578832375902806</td>\n",
       "      <td>luciano silva</td>\n",
       "    </tr>\n",
       "    <tr>\n",
       "      <th>4297</th>\n",
       "      <td>315210533272570</td>\n",
       "      <td>carlos eduardo de souza</td>\n",
       "    </tr>\n",
       "    <tr>\n",
       "      <th>8515</th>\n",
       "      <td>4835041248145487</td>\n",
       "      <td>carlos eduardo de souza</td>\n",
       "    </tr>\n",
       "    <tr>\n",
       "      <th>11063</th>\n",
       "      <td>7514305376858192</td>\n",
       "      <td>luciano silva</td>\n",
       "    </tr>\n",
       "  </tbody>\n",
       "</table>\n",
       "</div>"
      ],
      "text/plain": [
       "               LattesID            NOME-COMPLETO\n",
       "3843   9578832375902806            luciano silva\n",
       "4297    315210533272570  carlos eduardo de souza\n",
       "8515   4835041248145487  carlos eduardo de souza\n",
       "11063  7514305376858192            luciano silva"
      ]
     },
     "execution_count": 125,
     "metadata": {},
     "output_type": "execute_result"
    }
   ],
   "source": [
    "# showing the homonyms\n",
    "df_geral[df_geral.duplicated(subset=['NOME-COMPLETO'], keep=False)]"
   ]
  },
  {
   "cell_type": "code",
   "execution_count": 126,
   "id": "0fad6e2b",
   "metadata": {},
   "outputs": [
    {
     "data": {
      "text/plain": [
       "(4, 2)"
      ]
     },
     "execution_count": 126,
     "metadata": {},
     "output_type": "execute_result"
    }
   ],
   "source": [
    "df_geral[df_geral.duplicated(subset=['NOME-COMPLETO'], keep=False)].shape"
   ]
  },
  {
   "cell_type": "markdown",
   "id": "fc993c2f-433a-4cdb-b9a9-f3214c385ead",
   "metadata": {},
   "source": [
    "According to the result above, we notice that, at least in the current dataset, there are only two homonyms. However, if a different dataset is used, this issue could become more significant."
   ]
  },
  {
   "cell_type": "code",
   "execution_count": 127,
   "id": "3224dce8-4af4-4a9f-bf37-e3b5171bc464",
   "metadata": {
    "tags": []
   },
   "outputs": [],
   "source": [
    "# adjusting column names\n",
    "df_geral = df_geral.rename({'LattesID': 'LattesID_Orientador',\n",
    "                          'NOME-COMPLETO': 'NomeDoOrientador'}, axis=1)"
   ]
  },
  {
   "cell_type": "code",
   "execution_count": 128,
   "id": "add67d7f-6d80-4bfe-8ca7-9abe2598887f",
   "metadata": {
    "tags": []
   },
   "outputs": [
    {
     "data": {
      "text/html": [
       "<div>\n",
       "<style scoped>\n",
       "    .dataframe tbody tr th:only-of-type {\n",
       "        vertical-align: middle;\n",
       "    }\n",
       "\n",
       "    .dataframe tbody tr th {\n",
       "        vertical-align: top;\n",
       "    }\n",
       "\n",
       "    .dataframe thead th {\n",
       "        text-align: right;\n",
       "    }\n",
       "</style>\n",
       "<table border=\"1\" class=\"dataframe\">\n",
       "  <thead>\n",
       "    <tr style=\"text-align: right;\">\n",
       "      <th></th>\n",
       "      <th>LattesID_Orientador</th>\n",
       "      <th>NomeDoOrientador</th>\n",
       "    </tr>\n",
       "  </thead>\n",
       "  <tbody>\n",
       "    <tr>\n",
       "      <th>0</th>\n",
       "      <td>565598534943</td>\n",
       "      <td>sdnei de brito alves</td>\n",
       "    </tr>\n",
       "    <tr>\n",
       "      <th>1</th>\n",
       "      <td>601083852823</td>\n",
       "      <td>alexandre loureiros rodrigues</td>\n",
       "    </tr>\n",
       "    <tr>\n",
       "      <th>2</th>\n",
       "      <td>5349558315095</td>\n",
       "      <td>juliano manabu iyoda</td>\n",
       "    </tr>\n",
       "  </tbody>\n",
       "</table>\n",
       "</div>"
      ],
      "text/plain": [
       "   LattesID_Orientador               NomeDoOrientador\n",
       "0         565598534943           sdnei de brito alves\n",
       "1         601083852823  alexandre loureiros rodrigues\n",
       "2        5349558315095           juliano manabu iyoda"
      ]
     },
     "execution_count": 128,
     "metadata": {},
     "output_type": "execute_result"
    }
   ],
   "source": [
    "df_geral.head(3)"
   ]
  },
  {
   "cell_type": "code",
   "execution_count": 129,
   "id": "d42cd275-62c2-41c5-a4de-aee2e2f894ff",
   "metadata": {
    "tags": []
   },
   "outputs": [
    {
     "data": {
      "text/html": [
       "<div>\n",
       "<style scoped>\n",
       "    .dataframe tbody tr th:only-of-type {\n",
       "        vertical-align: middle;\n",
       "    }\n",
       "\n",
       "    .dataframe tbody tr th {\n",
       "        vertical-align: top;\n",
       "    }\n",
       "\n",
       "    .dataframe thead th {\n",
       "        text-align: right;\n",
       "    }\n",
       "</style>\n",
       "<table border=\"1\" class=\"dataframe\">\n",
       "  <thead>\n",
       "    <tr style=\"text-align: right;\">\n",
       "      <th></th>\n",
       "      <th>LattesID_Orientando</th>\n",
       "      <th>NomeDoOrientando</th>\n",
       "      <th>LattesID_Orientador</th>\n",
       "      <th>NomeDoOrientador</th>\n",
       "    </tr>\n",
       "  </thead>\n",
       "  <tbody>\n",
       "    <tr>\n",
       "      <th>0</th>\n",
       "      <td>11303079806761</td>\n",
       "      <td>gerald jean francis banon</td>\n",
       "      <td>-100000</td>\n",
       "      <td>joao camargo neto</td>\n",
       "    </tr>\n",
       "    <tr>\n",
       "      <th>1</th>\n",
       "      <td>11303079806761</td>\n",
       "      <td>gerald jean francis banon</td>\n",
       "      <td>8226325993016336</td>\n",
       "      <td>ailton cruz dos santos</td>\n",
       "    </tr>\n",
       "  </tbody>\n",
       "</table>\n",
       "</div>"
      ],
      "text/plain": [
       "   LattesID_Orientando           NomeDoOrientando  LattesID_Orientador  \\\n",
       "0       11303079806761  gerald jean francis banon              -100000   \n",
       "1       11303079806761  gerald jean francis banon     8226325993016336   \n",
       "\n",
       "         NomeDoOrientador  \n",
       "0       joao camargo neto  \n",
       "1  ailton cruz dos santos  "
      ]
     },
     "execution_count": 129,
     "metadata": {},
     "output_type": "execute_result"
    }
   ],
   "source": [
    "df_merged.head(2)"
   ]
  },
  {
   "cell_type": "code",
   "execution_count": 130,
   "id": "5088b10d-2c2a-4ffb-b03b-be46c5b4692d",
   "metadata": {
    "tags": []
   },
   "outputs": [],
   "source": [
    "sec_mask = df_merged.copy().drop(['LattesID_Orientador'], axis=1)"
   ]
  },
  {
   "cell_type": "code",
   "execution_count": 131,
   "id": "84d2170f-68eb-4b04-82fb-a7cddfef7407",
   "metadata": {
    "tags": []
   },
   "outputs": [
    {
     "data": {
      "text/html": [
       "<div>\n",
       "<style scoped>\n",
       "    .dataframe tbody tr th:only-of-type {\n",
       "        vertical-align: middle;\n",
       "    }\n",
       "\n",
       "    .dataframe tbody tr th {\n",
       "        vertical-align: top;\n",
       "    }\n",
       "\n",
       "    .dataframe thead th {\n",
       "        text-align: right;\n",
       "    }\n",
       "</style>\n",
       "<table border=\"1\" class=\"dataframe\">\n",
       "  <thead>\n",
       "    <tr style=\"text-align: right;\">\n",
       "      <th></th>\n",
       "      <th>LattesID_Orientando</th>\n",
       "      <th>NomeDoOrientando</th>\n",
       "      <th>NomeDoOrientador</th>\n",
       "    </tr>\n",
       "  </thead>\n",
       "  <tbody>\n",
       "    <tr>\n",
       "      <th>0</th>\n",
       "      <td>11303079806761</td>\n",
       "      <td>gerald jean francis banon</td>\n",
       "      <td>joao camargo neto</td>\n",
       "    </tr>\n",
       "    <tr>\n",
       "      <th>1</th>\n",
       "      <td>11303079806761</td>\n",
       "      <td>gerald jean francis banon</td>\n",
       "      <td>ailton cruz dos santos</td>\n",
       "    </tr>\n",
       "  </tbody>\n",
       "</table>\n",
       "</div>"
      ],
      "text/plain": [
       "   LattesID_Orientando           NomeDoOrientando        NomeDoOrientador\n",
       "0       11303079806761  gerald jean francis banon       joao camargo neto\n",
       "1       11303079806761  gerald jean francis banon  ailton cruz dos santos"
      ]
     },
     "execution_count": 131,
     "metadata": {},
     "output_type": "execute_result"
    }
   ],
   "source": [
    "sec_mask.head(2)"
   ]
  },
  {
   "cell_type": "code",
   "execution_count": 132,
   "id": "16af0fbb-9603-4d88-8289-64ac91c6bca1",
   "metadata": {
    "tags": []
   },
   "outputs": [
    {
     "data": {
      "text/plain": [
       "(222315, 3)"
      ]
     },
     "execution_count": 132,
     "metadata": {},
     "output_type": "execute_result"
    }
   ],
   "source": [
    "sec_mask.shape"
   ]
  },
  {
   "cell_type": "code",
   "execution_count": 133,
   "id": "c9f5ca19-5068-4cd9-9ae2-494553628471",
   "metadata": {
    "tags": []
   },
   "outputs": [
    {
     "data": {
      "text/html": [
       "<div>\n",
       "<style scoped>\n",
       "    .dataframe tbody tr th:only-of-type {\n",
       "        vertical-align: middle;\n",
       "    }\n",
       "\n",
       "    .dataframe tbody tr th {\n",
       "        vertical-align: top;\n",
       "    }\n",
       "\n",
       "    .dataframe thead th {\n",
       "        text-align: right;\n",
       "    }\n",
       "</style>\n",
       "<table border=\"1\" class=\"dataframe\">\n",
       "  <thead>\n",
       "    <tr style=\"text-align: right;\">\n",
       "      <th></th>\n",
       "      <th>LattesID_Orientador</th>\n",
       "      <th>NomeDoOrientador</th>\n",
       "    </tr>\n",
       "  </thead>\n",
       "  <tbody>\n",
       "    <tr>\n",
       "      <th>0</th>\n",
       "      <td>565598534943</td>\n",
       "      <td>sdnei de brito alves</td>\n",
       "    </tr>\n",
       "    <tr>\n",
       "      <th>1</th>\n",
       "      <td>601083852823</td>\n",
       "      <td>alexandre loureiros rodrigues</td>\n",
       "    </tr>\n",
       "  </tbody>\n",
       "</table>\n",
       "</div>"
      ],
      "text/plain": [
       "   LattesID_Orientador               NomeDoOrientador\n",
       "0         565598534943           sdnei de brito alves\n",
       "1         601083852823  alexandre loureiros rodrigues"
      ]
     },
     "execution_count": 133,
     "metadata": {},
     "output_type": "execute_result"
    }
   ],
   "source": [
    "df_geral.head(2)"
   ]
  },
  {
   "cell_type": "code",
   "execution_count": 134,
   "id": "fdc67da0-4eee-4afa-bad0-c24a0cf32646",
   "metadata": {
    "tags": []
   },
   "outputs": [],
   "source": [
    "# merge on name\n",
    "sec_mask = sec_mask.merge(df_geral, on='NomeDoOrientador', how='inner')"
   ]
  },
  {
   "cell_type": "code",
   "execution_count": 135,
   "id": "aa100024-4aa5-42be-b6f8-a6a2204d5516",
   "metadata": {
    "tags": []
   },
   "outputs": [
    {
     "data": {
      "text/plain": [
       "(8077, 4)"
      ]
     },
     "execution_count": 135,
     "metadata": {},
     "output_type": "execute_result"
    }
   ],
   "source": [
    "sec_mask.shape"
   ]
  },
  {
   "cell_type": "code",
   "execution_count": 136,
   "id": "ac1a1f3e-1bc0-4700-8c00-f67ccde9c1bd",
   "metadata": {
    "tags": []
   },
   "outputs": [
    {
     "data": {
      "text/html": [
       "<div>\n",
       "<style scoped>\n",
       "    .dataframe tbody tr th:only-of-type {\n",
       "        vertical-align: middle;\n",
       "    }\n",
       "\n",
       "    .dataframe tbody tr th {\n",
       "        vertical-align: top;\n",
       "    }\n",
       "\n",
       "    .dataframe thead th {\n",
       "        text-align: right;\n",
       "    }\n",
       "</style>\n",
       "<table border=\"1\" class=\"dataframe\">\n",
       "  <thead>\n",
       "    <tr style=\"text-align: right;\">\n",
       "      <th></th>\n",
       "      <th>LattesID_Orientando</th>\n",
       "      <th>NomeDoOrientando</th>\n",
       "      <th>NomeDoOrientador</th>\n",
       "      <th>LattesID_Orientador</th>\n",
       "    </tr>\n",
       "  </thead>\n",
       "  <tbody>\n",
       "    <tr>\n",
       "      <th>0</th>\n",
       "      <td>11303079806761</td>\n",
       "      <td>gerald jean francis banon</td>\n",
       "      <td>ana lucia bezerra candeias</td>\n",
       "      <td>4950530398212920</td>\n",
       "    </tr>\n",
       "    <tr>\n",
       "      <th>1</th>\n",
       "      <td>11303079806761</td>\n",
       "      <td>gerald jean francis banon</td>\n",
       "      <td>marcos cordeiro d'ornellas</td>\n",
       "      <td>1765721612533942</td>\n",
       "    </tr>\n",
       "  </tbody>\n",
       "</table>\n",
       "</div>"
      ],
      "text/plain": [
       "   LattesID_Orientando           NomeDoOrientando            NomeDoOrientador  \\\n",
       "0       11303079806761  gerald jean francis banon  ana lucia bezerra candeias   \n",
       "1       11303079806761  gerald jean francis banon  marcos cordeiro d'ornellas   \n",
       "\n",
       "   LattesID_Orientador  \n",
       "0     4950530398212920  \n",
       "1     1765721612533942  "
      ]
     },
     "execution_count": 136,
     "metadata": {},
     "output_type": "execute_result"
    }
   ],
   "source": [
    "sec_mask.head(2)"
   ]
  },
  {
   "cell_type": "code",
   "execution_count": 137,
   "id": "87287bcb-52e0-46ee-b2b3-5cfc80fdbacc",
   "metadata": {
    "tags": []
   },
   "outputs": [],
   "source": [
    "# selecting relevant columns for IDs\n",
    "sec_mask = sec_mask[['LattesID_Orientando', 'LattesID_Orientador']]"
   ]
  },
  {
   "cell_type": "code",
   "execution_count": 138,
   "id": "c0e7c610-6366-4b54-a580-a40b0e38b3b1",
   "metadata": {
    "tags": []
   },
   "outputs": [
    {
     "data": {
      "text/html": [
       "<div>\n",
       "<style scoped>\n",
       "    .dataframe tbody tr th:only-of-type {\n",
       "        vertical-align: middle;\n",
       "    }\n",
       "\n",
       "    .dataframe tbody tr th {\n",
       "        vertical-align: top;\n",
       "    }\n",
       "\n",
       "    .dataframe thead th {\n",
       "        text-align: right;\n",
       "    }\n",
       "</style>\n",
       "<table border=\"1\" class=\"dataframe\">\n",
       "  <thead>\n",
       "    <tr style=\"text-align: right;\">\n",
       "      <th></th>\n",
       "      <th>LattesID_Orientando</th>\n",
       "      <th>LattesID_Orientador</th>\n",
       "    </tr>\n",
       "  </thead>\n",
       "  <tbody>\n",
       "    <tr>\n",
       "      <th>0</th>\n",
       "      <td>11303079806761</td>\n",
       "      <td>4950530398212920</td>\n",
       "    </tr>\n",
       "    <tr>\n",
       "      <th>1</th>\n",
       "      <td>11303079806761</td>\n",
       "      <td>1765721612533942</td>\n",
       "    </tr>\n",
       "    <tr>\n",
       "      <th>2</th>\n",
       "      <td>11303079806761</td>\n",
       "      <td>5123287769635741</td>\n",
       "    </tr>\n",
       "    <tr>\n",
       "      <th>3</th>\n",
       "      <td>11303079806761</td>\n",
       "      <td>362417828475021</td>\n",
       "    </tr>\n",
       "    <tr>\n",
       "      <th>4</th>\n",
       "      <td>11303079806761</td>\n",
       "      <td>362417828475021</td>\n",
       "    </tr>\n",
       "  </tbody>\n",
       "</table>\n",
       "</div>"
      ],
      "text/plain": [
       "   LattesID_Orientando  LattesID_Orientador\n",
       "0       11303079806761     4950530398212920\n",
       "1       11303079806761     1765721612533942\n",
       "2       11303079806761     5123287769635741\n",
       "3       11303079806761      362417828475021\n",
       "4       11303079806761      362417828475021"
      ]
     },
     "execution_count": 138,
     "metadata": {},
     "output_type": "execute_result"
    }
   ],
   "source": [
    "sec_mask.head()"
   ]
  },
  {
   "cell_type": "code",
   "execution_count": 139,
   "id": "b3c94a86-fb3d-4d38-b4d4-b39ee77de020",
   "metadata": {
    "tags": []
   },
   "outputs": [
    {
     "data": {
      "text/plain": [
       "38342"
      ]
     },
     "execution_count": 139,
     "metadata": {},
     "output_type": "execute_result"
    }
   ],
   "source": [
    "len(df_final)"
   ]
  },
  {
   "cell_type": "code",
   "execution_count": 140,
   "id": "ee62cff1-1686-498b-a70b-13487f93e00e",
   "metadata": {
    "tags": []
   },
   "outputs": [],
   "source": [
    "df_final = pd.concat([df_final, sec_mask], axis=0, ignore_index=True)"
   ]
  },
  {
   "cell_type": "code",
   "execution_count": 141,
   "id": "e639f9fb-8c1a-4013-90c3-9407089d9495",
   "metadata": {
    "tags": []
   },
   "outputs": [
    {
     "data": {
      "text/plain": [
       "46419"
      ]
     },
     "execution_count": 141,
     "metadata": {},
     "output_type": "execute_result"
    }
   ],
   "source": [
    "len(df_final)"
   ]
  },
  {
   "cell_type": "markdown",
   "id": "7d487f26-bb2d-44d8-ab78-a0df54b551e0",
   "metadata": {},
   "source": [
    "### Final Dataset Preparation"
   ]
  },
  {
   "cell_type": "code",
   "execution_count": 142,
   "id": "f47daf7b-6adf-4103-b681-b383be45be7d",
   "metadata": {
    "tags": []
   },
   "outputs": [],
   "source": [
    "df_final.drop_duplicates(inplace=True)"
   ]
  },
  {
   "cell_type": "code",
   "execution_count": 143,
   "id": "0e05f177-56b8-4976-82c0-b860bec222e3",
   "metadata": {
    "tags": []
   },
   "outputs": [
    {
     "data": {
      "text/html": [
       "<div>\n",
       "<style scoped>\n",
       "    .dataframe tbody tr th:only-of-type {\n",
       "        vertical-align: middle;\n",
       "    }\n",
       "\n",
       "    .dataframe tbody tr th {\n",
       "        vertical-align: top;\n",
       "    }\n",
       "\n",
       "    .dataframe thead th {\n",
       "        text-align: right;\n",
       "    }\n",
       "</style>\n",
       "<table border=\"1\" class=\"dataframe\">\n",
       "  <thead>\n",
       "    <tr style=\"text-align: right;\">\n",
       "      <th></th>\n",
       "      <th>LattesID_Orientando</th>\n",
       "      <th>LattesID_Orientador</th>\n",
       "    </tr>\n",
       "  </thead>\n",
       "  <tbody>\n",
       "    <tr>\n",
       "      <th>0</th>\n",
       "      <td>11303079806761</td>\n",
       "      <td>8226325993016336</td>\n",
       "    </tr>\n",
       "    <tr>\n",
       "      <th>1</th>\n",
       "      <td>11303079806761</td>\n",
       "      <td>9973453169372876</td>\n",
       "    </tr>\n",
       "    <tr>\n",
       "      <th>2</th>\n",
       "      <td>11303079806761</td>\n",
       "      <td>362417828475021</td>\n",
       "    </tr>\n",
       "    <tr>\n",
       "      <th>3</th>\n",
       "      <td>11303079806761</td>\n",
       "      <td>4950530398212920</td>\n",
       "    </tr>\n",
       "    <tr>\n",
       "      <th>4</th>\n",
       "      <td>11303079806761</td>\n",
       "      <td>5067006506847859</td>\n",
       "    </tr>\n",
       "  </tbody>\n",
       "</table>\n",
       "</div>"
      ],
      "text/plain": [
       "  LattesID_Orientando LattesID_Orientador\n",
       "0      11303079806761    8226325993016336\n",
       "1      11303079806761    9973453169372876\n",
       "2      11303079806761     362417828475021\n",
       "3      11303079806761    4950530398212920\n",
       "4      11303079806761    5067006506847859"
      ]
     },
     "execution_count": 143,
     "metadata": {},
     "output_type": "execute_result"
    }
   ],
   "source": [
    "df_final.head()"
   ]
  },
  {
   "cell_type": "code",
   "execution_count": 144,
   "id": "0d293e69-2138-403f-8060-112ba83582f6",
   "metadata": {
    "tags": []
   },
   "outputs": [
    {
     "data": {
      "text/plain": [
       "36747"
      ]
     },
     "execution_count": 144,
     "metadata": {},
     "output_type": "execute_result"
    }
   ],
   "source": [
    "len(df_final)"
   ]
  },
  {
   "cell_type": "code",
   "execution_count": 145,
   "id": "45a0cd5f-3731-4129-935a-f2f80e70ef41",
   "metadata": {
    "tags": []
   },
   "outputs": [
    {
     "data": {
      "text/plain": [
       "LattesID_Orientando    object\n",
       "LattesID_Orientador    object\n",
       "dtype: object"
      ]
     },
     "execution_count": 145,
     "metadata": {},
     "output_type": "execute_result"
    }
   ],
   "source": [
    "df_final.dtypes"
   ]
  },
  {
   "cell_type": "code",
   "execution_count": 146,
   "id": "068f3a0c-9c71-40a4-a5fc-80ccf7b538f0",
   "metadata": {
    "tags": []
   },
   "outputs": [],
   "source": [
    "# Removing lines where the two columns have the same value\n",
    "\n",
    "# (this is caused both by first and second mask\n",
    "df_final = df_final[df_final['LattesID_Orientando'] != df_final['LattesID_Orientador']]"
   ]
  },
  {
   "cell_type": "code",
   "execution_count": 147,
   "id": "6a4e780a-8c46-4356-b1b3-9bff12034181",
   "metadata": {
    "tags": []
   },
   "outputs": [
    {
     "data": {
      "text/plain": [
       "36703"
      ]
     },
     "execution_count": 147,
     "metadata": {},
     "output_type": "execute_result"
    }
   ],
   "source": [
    "len(df_final)"
   ]
  },
  {
   "cell_type": "code",
   "execution_count": 148,
   "id": "92e66452-cf20-4871-89ff-76873f6e6f78",
   "metadata": {
    "tags": []
   },
   "outputs": [
    {
     "data": {
      "text/plain": [
       "Index(['LattesID_Orientando', 'LattesID_Orientador'], dtype='object')"
      ]
     },
     "execution_count": 148,
     "metadata": {},
     "output_type": "execute_result"
    }
   ],
   "source": [
    "df_final.columns"
   ]
  },
  {
   "cell_type": "code",
   "execution_count": 149,
   "id": "bce715aa-daf5-4e1d-b864-0a79ff28d44c",
   "metadata": {
    "tags": []
   },
   "outputs": [
    {
     "data": {
      "text/plain": [
       "(2537, 34490)"
      ]
     },
     "execution_count": 149,
     "metadata": {},
     "output_type": "execute_result"
    }
   ],
   "source": [
    "len(df_final.LattesID_Orientando.unique()), len(df_final.LattesID_Orientador.unique())"
   ]
  },
  {
   "cell_type": "code",
   "execution_count": 150,
   "id": "6b608f43-80cb-4f78-be50-b0d5f4a54ab8",
   "metadata": {
    "tags": []
   },
   "outputs": [],
   "source": [
    "df_final.LattesID_Orientando = df_final.LattesID_Orientando.apply(lambda x: f'LattesID_{x}')\n",
    "df_final.LattesID_Orientador = df_final.LattesID_Orientador.apply(lambda x: f'LattesID_{x}')"
   ]
  },
  {
   "cell_type": "code",
   "execution_count": 151,
   "id": "a154d995-04a5-4ca0-8033-00f14928bfb7",
   "metadata": {
    "tags": []
   },
   "outputs": [
    {
     "data": {
      "text/plain": [
       "(2537, 34490)"
      ]
     },
     "execution_count": 151,
     "metadata": {},
     "output_type": "execute_result"
    }
   ],
   "source": [
    "len(df_final.LattesID_Orientando.unique()), len(df_final.LattesID_Orientador.unique())"
   ]
  },
  {
   "cell_type": "code",
   "execution_count": 152,
   "id": "d790b3d9",
   "metadata": {},
   "outputs": [
    {
     "data": {
      "text/html": [
       "<div>\n",
       "<style scoped>\n",
       "    .dataframe tbody tr th:only-of-type {\n",
       "        vertical-align: middle;\n",
       "    }\n",
       "\n",
       "    .dataframe tbody tr th {\n",
       "        vertical-align: top;\n",
       "    }\n",
       "\n",
       "    .dataframe thead th {\n",
       "        text-align: right;\n",
       "    }\n",
       "</style>\n",
       "<table border=\"1\" class=\"dataframe\">\n",
       "  <thead>\n",
       "    <tr style=\"text-align: right;\">\n",
       "      <th></th>\n",
       "      <th>LattesID_Orientando</th>\n",
       "      <th>LattesID_Orientador</th>\n",
       "    </tr>\n",
       "  </thead>\n",
       "  <tbody>\n",
       "    <tr>\n",
       "      <th>0</th>\n",
       "      <td>LattesID_11303079806761</td>\n",
       "      <td>LattesID_8226325993016336</td>\n",
       "    </tr>\n",
       "    <tr>\n",
       "      <th>1</th>\n",
       "      <td>LattesID_11303079806761</td>\n",
       "      <td>LattesID_9973453169372876</td>\n",
       "    </tr>\n",
       "    <tr>\n",
       "      <th>2</th>\n",
       "      <td>LattesID_11303079806761</td>\n",
       "      <td>LattesID_362417828475021</td>\n",
       "    </tr>\n",
       "    <tr>\n",
       "      <th>3</th>\n",
       "      <td>LattesID_11303079806761</td>\n",
       "      <td>LattesID_4950530398212920</td>\n",
       "    </tr>\n",
       "    <tr>\n",
       "      <th>4</th>\n",
       "      <td>LattesID_11303079806761</td>\n",
       "      <td>LattesID_5067006506847859</td>\n",
       "    </tr>\n",
       "    <tr>\n",
       "      <th>...</th>\n",
       "      <td>...</td>\n",
       "      <td>...</td>\n",
       "    </tr>\n",
       "    <tr>\n",
       "      <th>46406</th>\n",
       "      <td>LattesID_9900612496740076</td>\n",
       "      <td>LattesID_6150479997891841</td>\n",
       "    </tr>\n",
       "    <tr>\n",
       "      <th>46408</th>\n",
       "      <td>LattesID_9900612496740076</td>\n",
       "      <td>LattesID_6025151534761132</td>\n",
       "    </tr>\n",
       "    <tr>\n",
       "      <th>46411</th>\n",
       "      <td>LattesID_9962204158580009</td>\n",
       "      <td>LattesID_3264146604600929</td>\n",
       "    </tr>\n",
       "    <tr>\n",
       "      <th>46415</th>\n",
       "      <td>LattesID_9962204158580009</td>\n",
       "      <td>LattesID_9771138597443055</td>\n",
       "    </tr>\n",
       "    <tr>\n",
       "      <th>46418</th>\n",
       "      <td>LattesID_9962204158580009</td>\n",
       "      <td>LattesID_2829820424825932</td>\n",
       "    </tr>\n",
       "  </tbody>\n",
       "</table>\n",
       "<p>36703 rows × 2 columns</p>\n",
       "</div>"
      ],
      "text/plain": [
       "             LattesID_Orientando        LattesID_Orientador\n",
       "0        LattesID_11303079806761  LattesID_8226325993016336\n",
       "1        LattesID_11303079806761  LattesID_9973453169372876\n",
       "2        LattesID_11303079806761   LattesID_362417828475021\n",
       "3        LattesID_11303079806761  LattesID_4950530398212920\n",
       "4        LattesID_11303079806761  LattesID_5067006506847859\n",
       "...                          ...                        ...\n",
       "46406  LattesID_9900612496740076  LattesID_6150479997891841\n",
       "46408  LattesID_9900612496740076  LattesID_6025151534761132\n",
       "46411  LattesID_9962204158580009  LattesID_3264146604600929\n",
       "46415  LattesID_9962204158580009  LattesID_9771138597443055\n",
       "46418  LattesID_9962204158580009  LattesID_2829820424825932\n",
       "\n",
       "[36703 rows x 2 columns]"
      ]
     },
     "execution_count": 152,
     "metadata": {},
     "output_type": "execute_result"
    }
   ],
   "source": [
    "df_final"
   ]
  },
  {
   "cell_type": "code",
   "execution_count": 153,
   "id": "a0a3329b",
   "metadata": {},
   "outputs": [],
   "source": [
    "df_final.rename(columns={'LattesID_Orientando': 'Target', 'LattesID_Orientador': 'Source'}, inplace=True)"
   ]
  },
  {
   "cell_type": "code",
   "execution_count": 154,
   "id": "73dfe954",
   "metadata": {},
   "outputs": [],
   "source": [
    "df_final = df_final[['Source', 'Target']]"
   ]
  },
  {
   "cell_type": "code",
   "execution_count": 155,
   "id": "85ac53c2-8faf-49c8-b443-62a476aa540b",
   "metadata": {
    "tags": []
   },
   "outputs": [],
   "source": [
    "#df_final.to_csv('grafo-orientacoes.csv', index=False)"
   ]
  },
  {
   "cell_type": "code",
   "execution_count": 156,
   "id": "f18d517b",
   "metadata": {},
   "outputs": [
    {
     "data": {
      "text/plain": [
       "Index(['Source', 'Target'], dtype='object')"
      ]
     },
     "execution_count": 156,
     "metadata": {},
     "output_type": "execute_result"
    }
   ],
   "source": [
    "df_final.columns"
   ]
  },
  {
   "cell_type": "code",
   "execution_count": 157,
   "id": "04043d74",
   "metadata": {},
   "outputs": [],
   "source": [
    "# Criar grafo direcionado\n",
    "G = nx.DiGraph()\n",
    "\n",
    "# Adicionar arestas: orientador -> orientando\n",
    "for _, row in df_final.iterrows():\n",
    "    orientador = row['Source']\n",
    "    orientando = row['Target']\n",
    "    G.add_edge(orientador, orientando)\n"
   ]
  },
  {
   "cell_type": "code",
   "execution_count": 158,
   "id": "52686ce6",
   "metadata": {},
   "outputs": [],
   "source": [
    "nx.write_gexf(G, \"../graphs/aplicacoes/orientacoes.gexf\")"
   ]
  },
  {
   "cell_type": "code",
   "execution_count": null,
   "id": "1dae69e7",
   "metadata": {},
   "outputs": [],
   "source": []
  },
  {
   "cell_type": "code",
   "execution_count": null,
   "id": "d2ca6348",
   "metadata": {},
   "outputs": [],
   "source": []
  }
 ],
 "metadata": {
  "kernelspec": {
   "display_name": ".venv",
   "language": "python",
   "name": "python3"
  },
  "language_info": {
   "codemirror_mode": {
    "name": "ipython",
    "version": 3
   },
   "file_extension": ".py",
   "mimetype": "text/x-python",
   "name": "python",
   "nbconvert_exporter": "python",
   "pygments_lexer": "ipython3",
   "version": "3.12.7"
  }
 },
 "nbformat": 4,
 "nbformat_minor": 5
}
