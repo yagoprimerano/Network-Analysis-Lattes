{
 "cells": [
  {
   "cell_type": "code",
   "execution_count": 1,
   "id": "0d56b6bc-f367-4f47-b6db-715b50112c9f",
   "metadata": {
    "tags": []
   },
   "outputs": [],
   "source": [
    "import pandas as pd\n",
    "import os\n",
    "from typing import List"
   ]
  },
  {
   "cell_type": "code",
   "execution_count": 2,
   "id": "b8a6514f-4b1d-4a92-abc7-c5899b352f14",
   "metadata": {
    "tags": []
   },
   "outputs": [],
   "source": [
    "files = ['areas', 'atuacoes', 'capitulos', 'enderecos', 'eventos', 'formacoes',\n",
    "        'gerais', 'linhas', 'livros', 'participacoesEventos', 'periodicos', 'projetos']\n",
    "\n",
    "scopes = ['abrangente', 'aplicacoes', 'restritivo']"
   ]
  },
  {
   "cell_type": "code",
   "execution_count": 3,
   "id": "dade4d88",
   "metadata": {},
   "outputs": [],
   "source": [
    "DATA_DIR = '../data/'"
   ]
  },
  {
   "cell_type": "code",
   "execution_count": 4,
   "id": "e1e8755d",
   "metadata": {},
   "outputs": [],
   "source": [
    "def make_unique(lst: List) -> List:\n",
    "    \"\"\"\n",
    "    Transforma os elementos repetidos de uma lista de strings em strings únicas, \n",
    "    adicionando um sufixo numérico incremental para cada ocorrência subsequente de um elemento repetido.\n",
    "    \n",
    "    Parâmetros:\n",
    "    -----------\n",
    "    lst : list of str\n",
    "        Uma lista de strings onde alguns elementos podem se repetir.\n",
    "        \n",
    "    Retorna:\n",
    "    --------\n",
    "    list of str\n",
    "        Uma nova lista onde cada elemento é único. Para elementos repetidos,\n",
    "        um sufixo numérico é adicionado para diferenciá-los (ex: 'a', 'a2', 'a3').\n",
    "\n",
    "    Exemplo:\n",
    "    --------\n",
    "    >>> make_unique(['a', 'a', 'b', 'a', 'b'])\n",
    "    ['a', 'a2', 'b', 'a3', 'b2']\n",
    "    \"\"\"\n",
    "    count_dict = {}\n",
    "    result = []\n",
    "    \n",
    "    for item in lst:\n",
    "        if item in count_dict:\n",
    "            count_dict[item] += 1\n",
    "            result.append(f\"{item}{count_dict[item]}\")\n",
    "        else:\n",
    "            count_dict[item] = 1\n",
    "            result.append(item)\n",
    "    \n",
    "    return result\n"
   ]
  },
  {
   "cell_type": "code",
   "execution_count": 5,
   "id": "8987d436-d1e3-4489-bccb-a3bd9e20ad4a",
   "metadata": {
    "tags": []
   },
   "outputs": [
    {
     "name": "stdout",
     "output_type": "stream",
     "text": [
      "Linhas não lidas em abrangente areas: 0 de 44356\n",
      "Linhas não lidas em abrangente atuacoes: 0 de 199553\n",
      "Linhas não lidas em abrangente capitulos: 0 de 72180\n",
      "Linhas não lidas em abrangente enderecos: 0 de 9914\n"
     ]
    },
    {
     "ename": "KeyboardInterrupt",
     "evalue": "",
     "output_type": "error",
     "traceback": [
      "\u001b[31m---------------------------------------------------------------------------\u001b[39m",
      "\u001b[31mKeyboardInterrupt\u001b[39m                         Traceback (most recent call last)",
      "\u001b[36mCell\u001b[39m\u001b[36m \u001b[39m\u001b[32mIn[5]\u001b[39m\u001b[32m, line 23\u001b[39m\n\u001b[32m     20\u001b[39m header = make_unique(header)\n\u001b[32m     22\u001b[39m \u001b[38;5;66;03m# Carregando o arquivo csv sem header\u001b[39;00m\n\u001b[32m---> \u001b[39m\u001b[32m23\u001b[39m df = \u001b[43mpd\u001b[49m\u001b[43m.\u001b[49m\u001b[43mread_csv\u001b[49m\u001b[43m(\u001b[49m\u001b[43mcsv_file_path\u001b[49m\u001b[43m,\u001b[49m\u001b[43m \u001b[49m\u001b[43mheader\u001b[49m\u001b[43m=\u001b[49m\u001b[38;5;28;43;01mNone\u001b[39;49;00m\u001b[43m,\u001b[49m\u001b[43m \u001b[49m\u001b[43mdelimiter\u001b[49m\u001b[43m=\u001b[49m\u001b[33;43m'\u001b[39;49m\u001b[38;5;130;43;01m\\t\u001b[39;49;00m\u001b[33;43m'\u001b[39;49m\u001b[43m,\u001b[49m\u001b[43m \u001b[49m\u001b[43mnames\u001b[49m\u001b[43m \u001b[49m\u001b[43m=\u001b[49m\u001b[43m \u001b[49m\u001b[43mheader\u001b[49m\u001b[43m)\u001b[49m\n\u001b[32m     26\u001b[39m \u001b[38;5;66;03m# Foi observado que alguns headers possuiam colunas desnecessárias à direita\u001b[39;00m\n\u001b[32m     27\u001b[39m \u001b[38;5;66;03m# Sendo assim, o header terá o tamanho da quantidade de colunas do dataframe\u001b[39;00m\n\u001b[32m     28\u001b[39m \u001b[38;5;66;03m# ao eliminar as colunas a direita\u001b[39;00m\n\u001b[32m     30\u001b[39m columns_lenght = df.shape[\u001b[32m1\u001b[39m]\n",
      "\u001b[36mFile \u001b[39m\u001b[32m~/facul/pesquisa/Network-Analysis-Lattes/.venv/lib/python3.12/site-packages/pandas/io/parsers/readers.py:1026\u001b[39m, in \u001b[36mread_csv\u001b[39m\u001b[34m(filepath_or_buffer, sep, delimiter, header, names, index_col, usecols, dtype, engine, converters, true_values, false_values, skipinitialspace, skiprows, skipfooter, nrows, na_values, keep_default_na, na_filter, verbose, skip_blank_lines, parse_dates, infer_datetime_format, keep_date_col, date_parser, date_format, dayfirst, cache_dates, iterator, chunksize, compression, thousands, decimal, lineterminator, quotechar, quoting, doublequote, escapechar, comment, encoding, encoding_errors, dialect, on_bad_lines, delim_whitespace, low_memory, memory_map, float_precision, storage_options, dtype_backend)\u001b[39m\n\u001b[32m   1013\u001b[39m kwds_defaults = _refine_defaults_read(\n\u001b[32m   1014\u001b[39m     dialect,\n\u001b[32m   1015\u001b[39m     delimiter,\n\u001b[32m   (...)\u001b[39m\u001b[32m   1022\u001b[39m     dtype_backend=dtype_backend,\n\u001b[32m   1023\u001b[39m )\n\u001b[32m   1024\u001b[39m kwds.update(kwds_defaults)\n\u001b[32m-> \u001b[39m\u001b[32m1026\u001b[39m \u001b[38;5;28;01mreturn\u001b[39;00m \u001b[43m_read\u001b[49m\u001b[43m(\u001b[49m\u001b[43mfilepath_or_buffer\u001b[49m\u001b[43m,\u001b[49m\u001b[43m \u001b[49m\u001b[43mkwds\u001b[49m\u001b[43m)\u001b[49m\n",
      "\u001b[36mFile \u001b[39m\u001b[32m~/facul/pesquisa/Network-Analysis-Lattes/.venv/lib/python3.12/site-packages/pandas/io/parsers/readers.py:626\u001b[39m, in \u001b[36m_read\u001b[39m\u001b[34m(filepath_or_buffer, kwds)\u001b[39m\n\u001b[32m    623\u001b[39m     \u001b[38;5;28;01mreturn\u001b[39;00m parser\n\u001b[32m    625\u001b[39m \u001b[38;5;28;01mwith\u001b[39;00m parser:\n\u001b[32m--> \u001b[39m\u001b[32m626\u001b[39m     \u001b[38;5;28;01mreturn\u001b[39;00m \u001b[43mparser\u001b[49m\u001b[43m.\u001b[49m\u001b[43mread\u001b[49m\u001b[43m(\u001b[49m\u001b[43mnrows\u001b[49m\u001b[43m)\u001b[49m\n",
      "\u001b[36mFile \u001b[39m\u001b[32m~/facul/pesquisa/Network-Analysis-Lattes/.venv/lib/python3.12/site-packages/pandas/io/parsers/readers.py:1923\u001b[39m, in \u001b[36mTextFileReader.read\u001b[39m\u001b[34m(self, nrows)\u001b[39m\n\u001b[32m   1916\u001b[39m nrows = validate_integer(\u001b[33m\"\u001b[39m\u001b[33mnrows\u001b[39m\u001b[33m\"\u001b[39m, nrows)\n\u001b[32m   1917\u001b[39m \u001b[38;5;28;01mtry\u001b[39;00m:\n\u001b[32m   1918\u001b[39m     \u001b[38;5;66;03m# error: \"ParserBase\" has no attribute \"read\"\u001b[39;00m\n\u001b[32m   1919\u001b[39m     (\n\u001b[32m   1920\u001b[39m         index,\n\u001b[32m   1921\u001b[39m         columns,\n\u001b[32m   1922\u001b[39m         col_dict,\n\u001b[32m-> \u001b[39m\u001b[32m1923\u001b[39m     ) = \u001b[38;5;28;43mself\u001b[39;49m\u001b[43m.\u001b[49m\u001b[43m_engine\u001b[49m\u001b[43m.\u001b[49m\u001b[43mread\u001b[49m\u001b[43m(\u001b[49m\u001b[43m  \u001b[49m\u001b[38;5;66;43;03m# type: ignore[attr-defined]\u001b[39;49;00m\n\u001b[32m   1924\u001b[39m \u001b[43m        \u001b[49m\u001b[43mnrows\u001b[49m\n\u001b[32m   1925\u001b[39m \u001b[43m    \u001b[49m\u001b[43m)\u001b[49m\n\u001b[32m   1926\u001b[39m \u001b[38;5;28;01mexcept\u001b[39;00m \u001b[38;5;167;01mException\u001b[39;00m:\n\u001b[32m   1927\u001b[39m     \u001b[38;5;28mself\u001b[39m.close()\n",
      "\u001b[36mFile \u001b[39m\u001b[32m~/facul/pesquisa/Network-Analysis-Lattes/.venv/lib/python3.12/site-packages/pandas/io/parsers/c_parser_wrapper.py:234\u001b[39m, in \u001b[36mCParserWrapper.read\u001b[39m\u001b[34m(self, nrows)\u001b[39m\n\u001b[32m    232\u001b[39m \u001b[38;5;28;01mtry\u001b[39;00m:\n\u001b[32m    233\u001b[39m     \u001b[38;5;28;01mif\u001b[39;00m \u001b[38;5;28mself\u001b[39m.low_memory:\n\u001b[32m--> \u001b[39m\u001b[32m234\u001b[39m         chunks = \u001b[38;5;28;43mself\u001b[39;49m\u001b[43m.\u001b[49m\u001b[43m_reader\u001b[49m\u001b[43m.\u001b[49m\u001b[43mread_low_memory\u001b[49m\u001b[43m(\u001b[49m\u001b[43mnrows\u001b[49m\u001b[43m)\u001b[49m\n\u001b[32m    235\u001b[39m         \u001b[38;5;66;03m# destructive to chunks\u001b[39;00m\n\u001b[32m    236\u001b[39m         data = _concatenate_chunks(chunks)\n",
      "\u001b[36mFile \u001b[39m\u001b[32mparsers.pyx:838\u001b[39m, in \u001b[36mpandas._libs.parsers.TextReader.read_low_memory\u001b[39m\u001b[34m()\u001b[39m\n",
      "\u001b[36mFile \u001b[39m\u001b[32mparsers.pyx:905\u001b[39m, in \u001b[36mpandas._libs.parsers.TextReader._read_rows\u001b[39m\u001b[34m()\u001b[39m\n",
      "\u001b[36mFile \u001b[39m\u001b[32mparsers.pyx:874\u001b[39m, in \u001b[36mpandas._libs.parsers.TextReader._tokenize_rows\u001b[39m\u001b[34m()\u001b[39m\n",
      "\u001b[36mFile \u001b[39m\u001b[32mparsers.pyx:891\u001b[39m, in \u001b[36mpandas._libs.parsers.TextReader._check_tokenize_status\u001b[39m\u001b[34m()\u001b[39m\n",
      "\u001b[36mFile \u001b[39m\u001b[32mparsers.pyx:2053\u001b[39m, in \u001b[36mpandas._libs.parsers.raise_parser_error\u001b[39m\u001b[34m()\u001b[39m\n",
      "\u001b[36mFile \u001b[39m\u001b[32m<frozen codecs>:319\u001b[39m, in \u001b[36mdecode\u001b[39m\u001b[34m(self, input, final)\u001b[39m\n",
      "\u001b[31mKeyboardInterrupt\u001b[39m: "
     ]
    }
   ],
   "source": [
    "for scope in scopes:\n",
    "    for file in files:\n",
    "\n",
    "        try:\n",
    "            \n",
    "            \n",
    "            # paths\n",
    "            header_file_path = DATA_DIR + 'raw/headers/' + file + '.cab'\n",
    "            csv_file_path = DATA_DIR + 'raw/' + scope +'/' + file + '.csv'\n",
    "            \n",
    "            \n",
    "            # Carregando o header do arquivo .cab\n",
    "            with open(header_file_path, 'r') as file_header:\n",
    "                header = file_header.read().strip().split(',')\n",
    "\n",
    "            # Transformar a string dentro da lista em uma nova lista separada por \"\\t\"\n",
    "            header = header[0].split('\\t')\n",
    "            \n",
    "            # torna a coluna unica\n",
    "            header = make_unique(header)\n",
    "            \n",
    "            # Carregando o arquivo csv sem header\n",
    "            df = pd.read_csv(csv_file_path, header=None, delimiter='\\t', names = header)\n",
    "\n",
    "\n",
    "            # Foi observado que alguns headers possuiam colunas desnecessárias à direita\n",
    "            # Sendo assim, o header terá o tamanho da quantidade de colunas do dataframe\n",
    "            # ao eliminar as colunas a direita\n",
    "            \n",
    "            columns_lenght = df.shape[1]\n",
    "            header = header[:columns_lenght]\n",
    "            \n",
    "            # Detectar quantas linhas com má formatação foram puladas em cada dataframe\n",
    "            linhas_lidas = len(df)\n",
    "            \n",
    "            total_linhas = sum(1 for line in open(csv_file_path))\n",
    "            \n",
    "            linhas_puladas = total_linhas - linhas_lidas\n",
    "            \n",
    "            print(f'Linhas não lidas em {scope} {file}: {linhas_puladas} de {total_linhas}')\n",
    "\n",
    "\n",
    "            # Inserindo o header lido do arquivo .cab\n",
    "            df.columns = header\n",
    "            \n",
    "            \n",
    "            outdir = DATA_DIR + 'processed/' + scope + '/'\n",
    "            if not os.path.exists(outdir):\n",
    "                os.mkdir(outdir)\n",
    "            \n",
    "            df.to_csv(outdir + file + '.csv', index=False)\n",
    "\n",
    "\n",
    "        except Exception as e:\n",
    "\n",
    "            print('ERRO!!!')\n",
    "\n",
    "            print(f'scope = {scope}')\n",
    "            print(f'file = {file}')\n",
    "            \n",
    "            print(len(header))\n",
    "            print(df.shape)\n",
    "\n",
    "\n",
    "            # Código que será executado para qualquer outra exceção\n",
    "            print(f\"Ocorreu um erro: {e}\")\n",
    "            \n",
    "            raise \n",
    "            \n"
   ]
  },
  {
   "cell_type": "markdown",
   "id": "70ec384e-3a4b-4564-af30-bdc12dbcf806",
   "metadata": {},
   "source": [
    "### Orientacoes"
   ]
  },
  {
   "cell_type": "code",
   "execution_count": null,
   "id": "88c15a42-ddae-4144-8dc8-404c7bf1d97e",
   "metadata": {
    "tags": []
   },
   "outputs": [],
   "source": [
    "header_orientacoes = ['LattesID',\n",
    "                     'NATUREZA',\n",
    "                     'STATUS',\n",
    "                     'ANO',\n",
    "                     'NomeDoOrientador',\n",
    "                     'CODIGO-INSTITUICAO',\n",
    "                     'NOME-INSTITUICAO',\n",
    "                     'CODIGO-CURSO',\n",
    "                     'FLAG-BOLSA',\n",
    "                     'CODIGO-AGENCIA-FINANCIADORA',\n",
    "                     'NOME-DA-AGENCIA',\n",
    "                     'TITULO',\n",
    "                     'NumeroIdOrientado',\n",
    "                     'NOME-CURSO',\n",
    "                     'NomeGrandeAreaDoConhecimento',\n",
    "                     'NomeDaAreaDoConhecimento',\n",
    "                     'NomeDaSubAreaDoConhecimento',\n",
    "                     'TIPO-DE-ORIENTACAO-CONCLUIDA',\n",
    "                     'TIPO-DE-ORIENTACAO']"
   ]
  },
  {
   "cell_type": "code",
   "execution_count": null,
   "id": "8f47cdae-ac71-44ba-97a8-7fc113dd6519",
   "metadata": {
    "tags": []
   },
   "outputs": [],
   "source": [
    "for scope in scopes:\n",
    "\n",
    "    try:\n",
    "\n",
    "        # paths\n",
    "        csv_file_path = DATA_DIR  + 'raw/orientacoes/' + scope + '/orientacoes.csv'\n",
    "\n",
    "        # Carregando o arquivo csv sem header\n",
    "        df = pd.read_csv(csv_file_path, header=None, delimiter='\\t', names = header_orientacoes)\n",
    "        \n",
    "        outdir = DATA_DIR  + 'processed/' + scope + '/'\n",
    "        if not os.path.exists(outdir):\n",
    "            os.mkdir(outdir)\n",
    "        \n",
    "        df.to_csv( outdir + 'orientacoes.csv', index=False)\n",
    "        \n",
    "\n",
    "    except Exception as e:\n",
    "\n",
    "        # Código que será executado para qualquer outra exceção\n",
    "        print(f\"Ocorreu um erro: {e}\")"
   ]
  }
 ],
 "metadata": {
  "kernelspec": {
   "display_name": ".venv",
   "language": "python",
   "name": "python3"
  },
  "language_info": {
   "codemirror_mode": {
    "name": "ipython",
    "version": 3
   },
   "file_extension": ".py",
   "mimetype": "text/x-python",
   "name": "python",
   "nbconvert_exporter": "python",
   "pygments_lexer": "ipython3",
   "version": "3.12.7"
  }
 },
 "nbformat": 4,
 "nbformat_minor": 5
}
