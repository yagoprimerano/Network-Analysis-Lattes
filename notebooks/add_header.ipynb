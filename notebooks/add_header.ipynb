{
 "cells": [
  {
   "cell_type": "code",
   "execution_count": 18,
   "id": "0d56b6bc-f367-4f47-b6db-715b50112c9f",
   "metadata": {
    "tags": []
   },
   "outputs": [],
   "source": [
    "import pandas as pd\n",
    "import os\n",
    "from typing import List"
   ]
  },
  {
   "cell_type": "code",
   "execution_count": 19,
   "id": "b8a6514f-4b1d-4a92-abc7-c5899b352f14",
   "metadata": {
    "tags": []
   },
   "outputs": [],
   "source": [
    "files = ['areas', 'atuacoes', 'capitulos', 'enderecos', 'eventos', 'formacoes',\n",
    "        'gerais', 'linhas', 'livros', 'participacoesEventos', 'periodicos', 'projetos']\n",
    "\n",
    "scopes = ['abrangente', 'aplicacoes', 'restritivo']"
   ]
  },
  {
   "cell_type": "code",
   "execution_count": 20,
   "id": "dade4d88",
   "metadata": {},
   "outputs": [],
   "source": [
    "DATA_DIR = '../data/'"
   ]
  },
  {
   "cell_type": "code",
   "execution_count": 21,
   "id": "e1e8755d",
   "metadata": {},
   "outputs": [],
   "source": [
    "def make_unique(lst: List) -> List:\n",
    "    \"\"\"\n",
    "    Transforma os elementos repetidos de uma lista de strings em strings únicas, \n",
    "    adicionando um sufixo numérico incremental para cada ocorrência subsequente de um elemento repetido.\n",
    "    \n",
    "    Parâmetros:\n",
    "    -----------\n",
    "    lst : list of str\n",
    "        Uma lista de strings onde alguns elementos podem se repetir.\n",
    "        \n",
    "    Retorna:\n",
    "    --------\n",
    "    list of str\n",
    "        Uma nova lista onde cada elemento é único. Para elementos repetidos,\n",
    "        um sufixo numérico é adicionado para diferenciá-los (ex: 'a', 'a2', 'a3').\n",
    "\n",
    "    Exemplo:\n",
    "    --------\n",
    "    >>> make_unique(['a', 'a', 'b', 'a', 'b'])\n",
    "    ['a', 'a2', 'b', 'a3', 'b2']\n",
    "    \"\"\"\n",
    "    count_dict = {}\n",
    "    result = []\n",
    "    \n",
    "    for item in lst:\n",
    "        if item in count_dict:\n",
    "            count_dict[item] += 1\n",
    "            result.append(f\"{item}{count_dict[item]}\")\n",
    "        else:\n",
    "            count_dict[item] = 1\n",
    "            result.append(item)\n",
    "    \n",
    "    return result\n"
   ]
  },
  {
   "cell_type": "code",
   "execution_count": 22,
   "id": "8987d436-d1e3-4489-bccb-a3bd9e20ad4a",
   "metadata": {
    "tags": []
   },
   "outputs": [
    {
     "name": "stdout",
     "output_type": "stream",
     "text": [
      "Linhas não lidas em abrangente areas: 0 de 44356\n",
      "Linhas não lidas em abrangente atuacoes: 0 de 199553\n",
      "Linhas não lidas em abrangente capitulos: 0 de 72180\n",
      "Linhas não lidas em abrangente enderecos: 0 de 9914\n",
      "Linhas não lidas em abrangente eventos: 0 de 733958\n",
      "Linhas não lidas em abrangente formacoes: 0 de 50393\n",
      "Linhas não lidas em abrangente gerais: 0 de 10969\n",
      "Linhas não lidas em abrangente linhas: 0 de 18027\n",
      "Linhas não lidas em abrangente livros: 0 de 23967\n",
      "Linhas não lidas em abrangente participacoesEventos: 0 de 379872\n"
     ]
    },
    {
     "name": "stderr",
     "output_type": "stream",
     "text": [
      "/tmp/ipykernel_139006/3594601322.py:23: DtypeWarning: Columns (1) have mixed types. Specify dtype option on import or set low_memory=False.\n",
      "  df = pd.read_csv(csv_file_path, header=None, delimiter='\\t', names = header)\n"
     ]
    },
    {
     "name": "stdout",
     "output_type": "stream",
     "text": [
      "Linhas não lidas em abrangente periodicos: 0 de 359053\n"
     ]
    },
    {
     "name": "stderr",
     "output_type": "stream",
     "text": [
      "/tmp/ipykernel_139006/3594601322.py:23: DtypeWarning: Columns (7,9,10,11) have mixed types. Specify dtype option on import or set low_memory=False.\n",
      "  df = pd.read_csv(csv_file_path, header=None, delimiter='\\t', names = header)\n"
     ]
    },
    {
     "name": "stdout",
     "output_type": "stream",
     "text": [
      "Linhas não lidas em abrangente projetos: 0 de 131078\n",
      "Linhas não lidas em aplicacoes areas: 0 de 16286\n",
      "Linhas não lidas em aplicacoes atuacoes: 0 de 77542\n",
      "Linhas não lidas em aplicacoes capitulos: 0 de 27645\n",
      "Linhas não lidas em aplicacoes enderecos: 0 de 3644\n",
      "Linhas não lidas em aplicacoes eventos: 0 de 328035\n",
      "Linhas não lidas em aplicacoes formacoes: 0 de 18236\n",
      "Linhas não lidas em aplicacoes gerais: 0 de 3992\n",
      "Linhas não lidas em aplicacoes linhas: 0 de 7271\n",
      "Linhas não lidas em aplicacoes livros: 0 de 8119\n",
      "Linhas não lidas em aplicacoes participacoesEventos: 0 de 149748\n"
     ]
    },
    {
     "name": "stderr",
     "output_type": "stream",
     "text": [
      "/tmp/ipykernel_139006/3594601322.py:23: DtypeWarning: Columns (1) have mixed types. Specify dtype option on import or set low_memory=False.\n",
      "  df = pd.read_csv(csv_file_path, header=None, delimiter='\\t', names = header)\n"
     ]
    },
    {
     "name": "stdout",
     "output_type": "stream",
     "text": [
      "Linhas não lidas em aplicacoes periodicos: 0 de 169425\n",
      "Linhas não lidas em aplicacoes projetos: 0 de 53045\n",
      "Linhas não lidas em restritivo areas: 0 de 37844\n",
      "Linhas não lidas em restritivo atuacoes: 0 de 172026\n",
      "Linhas não lidas em restritivo capitulos: 0 de 63061\n",
      "Linhas não lidas em restritivo enderecos: 0 de 8439\n",
      "Linhas não lidas em restritivo eventos: 0 de 629565\n",
      "Linhas não lidas em restritivo formacoes: 0 de 42913\n",
      "Linhas não lidas em restritivo gerais: 0 de 9328\n",
      "Linhas não lidas em restritivo linhas: 0 de 15571\n",
      "Linhas não lidas em restritivo livros: 0 de 20715\n",
      "Linhas não lidas em restritivo participacoesEventos: 0 de 326925\n"
     ]
    },
    {
     "name": "stderr",
     "output_type": "stream",
     "text": [
      "/tmp/ipykernel_139006/3594601322.py:23: DtypeWarning: Columns (1) have mixed types. Specify dtype option on import or set low_memory=False.\n",
      "  df = pd.read_csv(csv_file_path, header=None, delimiter='\\t', names = header)\n"
     ]
    },
    {
     "name": "stdout",
     "output_type": "stream",
     "text": [
      "Linhas não lidas em restritivo periodicos: 0 de 308120\n",
      "Linhas não lidas em restritivo projetos: 0 de 112001\n"
     ]
    }
   ],
   "source": [
    "for scope in scopes:\n",
    "    for file in files:\n",
    "\n",
    "        try:\n",
    "            \n",
    "            \n",
    "            # paths\n",
    "            header_file_path = DATA_DIR + 'raw/headers/' + file + '.cab'\n",
    "            csv_file_path = DATA_DIR + 'raw/' + scope +'/' + file + '.csv'\n",
    "            \n",
    "            \n",
    "            # Carregando o header do arquivo .cab\n",
    "            with open(header_file_path, 'r') as file_header:\n",
    "                header = file_header.read().strip().split(',')\n",
    "\n",
    "            # Transformar a string dentro da lista em uma nova lista separada por \"\\t\"\n",
    "            header = header[0].split('\\t')\n",
    "            \n",
    "            # torna a coluna unica\n",
    "            header = make_unique(header)\n",
    "            \n",
    "            # Carregando o arquivo csv sem header\n",
    "            df = pd.read_csv(csv_file_path, header=None, delimiter='\\t', names = header)\n",
    "\n",
    "\n",
    "            # Foi observado que alguns headers possuiam colunas desnecessárias à direita\n",
    "            # Sendo assim, o header terá o tamanho da quantidade de colunas do dataframe\n",
    "            # ao eliminar as colunas a direita\n",
    "            \n",
    "            columns_lenght = df.shape[1]\n",
    "            header = header[:columns_lenght]\n",
    "            \n",
    "            # Detectar quantas linhas com má formatação foram puladas em cada dataframe\n",
    "            linhas_lidas = len(df)\n",
    "            \n",
    "            total_linhas = sum(1 for line in open(csv_file_path))\n",
    "            \n",
    "            linhas_puladas = total_linhas - linhas_lidas\n",
    "            \n",
    "            print(f'Linhas não lidas em {scope} {file}: {linhas_puladas} de {total_linhas}')\n",
    "\n",
    "\n",
    "            # Inserindo o header lido do arquivo .cab\n",
    "            df.columns = header\n",
    "            \n",
    "            \n",
    "            outdir = DATA_DIR + 'processed/' + scope + '/'\n",
    "            if not os.path.exists(outdir):\n",
    "                os.mkdir(outdir)\n",
    "            \n",
    "            df.to_csv(outdir + file + '.csv', index=False)\n",
    "\n",
    "\n",
    "        except Exception as e:\n",
    "\n",
    "            print('ERRO!!!')\n",
    "\n",
    "            print(f'scope = {scope}')\n",
    "            print(f'file = {file}')\n",
    "            \n",
    "            print(len(header))\n",
    "            print(df.shape)\n",
    "\n",
    "\n",
    "            # Código que será executado para qualquer outra exceção\n",
    "            print(f\"Ocorreu um erro: {e}\")\n",
    "            \n",
    "            raise \n",
    "            \n"
   ]
  },
  {
   "cell_type": "markdown",
   "id": "70ec384e-3a4b-4564-af30-bdc12dbcf806",
   "metadata": {},
   "source": [
    "### Orientacoes"
   ]
  },
  {
   "cell_type": "code",
   "execution_count": 23,
   "id": "88c15a42-ddae-4144-8dc8-404c7bf1d97e",
   "metadata": {
    "tags": []
   },
   "outputs": [],
   "source": [
    "header_orientacoes = ['LattesID',\n",
    "                     'NATUREZA',\n",
    "                     'STATUS',\n",
    "                     'ANO',\n",
    "                     'NomeDoOrientador',\n",
    "                     'CODIGO-INSTITUICAO',\n",
    "                     'NOME-INSTITUICAO',\n",
    "                     'CODIGO-CURSO',\n",
    "                     'FLAG-BOLSA',\n",
    "                     'CODIGO-AGENCIA-FINANCIADORA',\n",
    "                     'NOME-DA-AGENCIA',\n",
    "                     'TITULO',\n",
    "                     'NumeroIdOrientado',\n",
    "                     'NOME-CURSO',\n",
    "                     'NomeGrandeAreaDoConhecimento',\n",
    "                     'NomeDaAreaDoConhecimento',\n",
    "                     'NomeDaSubAreaDoConhecimento',\n",
    "                     'TIPO-DE-ORIENTACAO-CONCLUIDA',\n",
    "                     'TIPO-DE-ORIENTACAO']"
   ]
  },
  {
   "cell_type": "code",
   "execution_count": 31,
   "id": "8f47cdae-ac71-44ba-97a8-7fc113dd6519",
   "metadata": {
    "tags": []
   },
   "outputs": [],
   "source": [
    "for scope in scopes:\n",
    "\n",
    "    try:\n",
    "\n",
    "        # paths\n",
    "        csv_file_path = DATA_DIR  + 'raw/orientacoes/' + scope + '/orientacoes.csv'\n",
    "\n",
    "        # Carregando o arquivo csv sem header\n",
    "        df = pd.read_csv(csv_file_path, header=None, delimiter='\\t', names = header_orientacoes)\n",
    "        \n",
    "        outdir = DATA_DIR  + 'processed/' + scope + '/'\n",
    "        if not os.path.exists(outdir):\n",
    "            os.mkdir(outdir)\n",
    "        \n",
    "        df.to_csv( outdir + 'orientacoes.csv', index=False)\n",
    "        \n",
    "\n",
    "    except Exception as e:\n",
    "\n",
    "        # Código que será executado para qualquer outra exceção\n",
    "        print(f\"Ocorreu um erro: {e}\")"
   ]
  }
 ],
 "metadata": {
  "kernelspec": {
   "display_name": "Python 3",
   "language": "python",
   "name": "python3"
  },
  "language_info": {
   "codemirror_mode": {
    "name": "ipython",
    "version": 3
   },
   "file_extension": ".py",
   "mimetype": "text/x-python",
   "name": "python",
   "nbconvert_exporter": "python",
   "pygments_lexer": "ipython3",
   "version": "3.12.7"
  }
 },
 "nbformat": 4,
 "nbformat_minor": 5
}
